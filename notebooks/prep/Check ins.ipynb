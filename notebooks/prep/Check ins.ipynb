{
 "cells": [
  {
   "cell_type": "code",
   "execution_count": 165,
   "metadata": {
    "scrolled": false
   },
   "outputs": [],
   "source": [
    "import pandas as pd\n",
    "import matplotlib\n",
    "import matplotlib.pyplot as plt\n",
    "\n",
    "#Full Check in data, seperate hours\n",
    "df = pd.read_csv(\"../../data/raw/yelp_checkin.csv\") \n",
    "\n",
    "#group into businesses and add to make toal number of checkins for each business\n",
    "check = df.groupby(\"business_id\")['checkins'].sum().sort_values(ascending=False)"
   ]
  },
  {
   "cell_type": "code",
   "execution_count": 166,
   "metadata": {},
   "outputs": [],
   "source": [
    "check.to_csv(\"checkins.csv\", index='business_id')\n",
    "#csv file: (business id, total checkins)"
   ]
  },
  {
   "cell_type": "code",
   "execution_count": 200,
   "metadata": {},
   "outputs": [
    {
     "data": {
      "text/html": [
       "<div>\n",
       "<style scoped>\n",
       "    .dataframe tbody tr th:only-of-type {\n",
       "        vertical-align: middle;\n",
       "    }\n",
       "\n",
       "    .dataframe tbody tr th {\n",
       "        vertical-align: top;\n",
       "    }\n",
       "\n",
       "    .dataframe thead th {\n",
       "        text-align: right;\n",
       "    }\n",
       "</style>\n",
       "<table border=\"1\" class=\"dataframe\">\n",
       "  <thead>\n",
       "    <tr style=\"text-align: right;\">\n",
       "      <th></th>\n",
       "      <th>business_id</th>\n",
       "      <th>stars</th>\n",
       "      <th>review_count</th>\n",
       "      <th>is_open</th>\n",
       "      <th>postal_code</th>\n",
       "      <th>checkins</th>\n",
       "    </tr>\n",
       "  </thead>\n",
       "  <tbody>\n",
       "    <tr>\n",
       "      <th>174533</th>\n",
       "      <td>6AGvafGH6q6x5yQnHIQwHQ</td>\n",
       "      <td>4.5</td>\n",
       "      <td>23</td>\n",
       "      <td>1</td>\n",
       "      <td>85225</td>\n",
       "      <td>0</td>\n",
       "    </tr>\n",
       "    <tr>\n",
       "      <th>174536</th>\n",
       "      <td>xqNpOnxY0XzdnUE4sjmg0w</td>\n",
       "      <td>4.0</td>\n",
       "      <td>4</td>\n",
       "      <td>0</td>\n",
       "      <td>M5E 1Z6</td>\n",
       "      <td>0</td>\n",
       "    </tr>\n",
       "    <tr>\n",
       "      <th>174560</th>\n",
       "      <td>fBUoQ3WCyQX9sMWteZfI3w</td>\n",
       "      <td>3.0</td>\n",
       "      <td>4</td>\n",
       "      <td>1</td>\n",
       "      <td>H3A 2M7</td>\n",
       "      <td>0</td>\n",
       "    </tr>\n",
       "    <tr>\n",
       "      <th>174561</th>\n",
       "      <td>kLFm_kehXNZkUc1oa2-Eaw</td>\n",
       "      <td>3.0</td>\n",
       "      <td>4</td>\n",
       "      <td>1</td>\n",
       "      <td>M6K 1T5</td>\n",
       "      <td>0</td>\n",
       "    </tr>\n",
       "    <tr>\n",
       "      <th>174563</th>\n",
       "      <td>gRGalHVu6BcaUDIAGVW_xQ</td>\n",
       "      <td>5.0</td>\n",
       "      <td>3</td>\n",
       "      <td>1</td>\n",
       "      <td>44286</td>\n",
       "      <td>0</td>\n",
       "    </tr>\n",
       "  </tbody>\n",
       "</table>\n",
       "</div>"
      ],
      "text/plain": [
       "                   business_id  stars  review_count  is_open postal_code  \\\n",
       "174533  6AGvafGH6q6x5yQnHIQwHQ    4.5            23        1       85225   \n",
       "174536  xqNpOnxY0XzdnUE4sjmg0w    4.0             4        0     M5E 1Z6   \n",
       "174560  fBUoQ3WCyQX9sMWteZfI3w    3.0             4        1     H3A 2M7   \n",
       "174561  kLFm_kehXNZkUc1oa2-Eaw    3.0             4        1     M6K 1T5   \n",
       "174563  gRGalHVu6BcaUDIAGVW_xQ    5.0             3        1       44286   \n",
       "\n",
       "       checkins  \n",
       "174533        0  \n",
       "174536        0  \n",
       "174560        0  \n",
       "174561        0  \n",
       "174563        0  "
      ]
     },
     "execution_count": 200,
     "metadata": {},
     "output_type": "execute_result"
    }
   ],
   "source": [
    "checkins = pd.read_csv(\"checkins.csv\") #read in csv file\n",
    "checkins.columns = ['business_id', 'checkins'] #assign headings\n",
    "checkins.set_index('business_id') #set index to business_id\n",
    "\n",
    "biz = pd.read_csv(\"../../data/raw/yelp_business.csv\") #read in FULL business file\n",
    "rating = biz.filter(['business_id', 'stars', 'review_count', 'is_open', 'postal_code']) #filter relevant columns\n",
    "rating.set_index('business_id') #set index to business_id\n",
    "\n",
    "#These two lines make a dataframe of all the business id's that have NO check ins\n",
    "common = rating.merge(checkins,on='business_id')\n",
    "notin = rating[(~rating.business_id.isin(common.business_id))].copy()\n",
    "\n",
    "#making a list of 0's to combine with id's above\n",
    "notinCounts = []\n",
    "for i in range(len(notin)):\n",
    "    notinCounts.append(\"0\")\n",
    "    \n",
    "#Join business ids with no check ins with a column of 0's\n",
    "#noChecks: (business id, checkins) where checkin is 0 for all of them\n",
    "#noChecks = pd.DataFrame({'business_id': notin, 'checkins': notinCounts})\n",
    "notin['checkins'] = pd.Series(notinCounts, index=notin.index)\n",
    "\n",
    "#merge ratings and checkins to create table of all info with checkins included\n",
    "activity1 = pd.merge(rating, checkins, on='business_id',left_index=True, right_index=True)\n",
    "activity1.set_index('business_id')\n",
    "\n",
    "#Join the table with 0 checkins to the master table of info\n",
    "activity = pd.concat([activity1, notin])"
   ]
  },
  {
   "cell_type": "code",
   "execution_count": 201,
   "metadata": {},
   "outputs": [],
   "source": [
    "activity.to_csv(\"activity.csv\", index='business_id')"
   ]
  }
 ],
 "metadata": {
  "kernelspec": {
   "display_name": "Python 3",
   "language": "python",
   "name": "python3"
  },
  "language_info": {
   "codemirror_mode": {
    "name": "ipython",
    "version": 3
   },
   "file_extension": ".py",
   "mimetype": "text/x-python",
   "name": "python",
   "nbconvert_exporter": "python",
   "pygments_lexer": "ipython3",
   "version": "3.6.4"
  }
 },
 "nbformat": 4,
 "nbformat_minor": 2
}
