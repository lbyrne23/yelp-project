{
 "cells": [
  {
   "cell_type": "markdown",
   "metadata": {},
   "source": [
    "# RQ1: Are ratings and number of reviews an indicator of business success?\n",
    "\n",
    "## Part 3: How do ratings change over time? Is there a clear profile difference between open and closed businesses?\n",
    "\n",
    "- For closed businesses, what is the lifespan of all the different star categories?\n",
    "- How do ratings deviate? What's the difference between open and closed businesses?\n",
    "- How do ratings deviate during the \"last half\" of a business' lifespan?\n",
    "- Average rating during \"first half\" and average rating during \"last half\" of lifespan for open vs closed."
   ]
  },
  {
   "cell_type": "code",
   "execution_count": 2,
   "metadata": {},
   "outputs": [],
   "source": [
    "import os\n",
    "import sys\n",
    "import pandas as pd\n",
    "import numpy as np\n",
    "import matplotlib\n",
    "import matplotlib.pyplot as plt\n",
    "\n",
    "module_path = os.path.abspath(os.path.join('../../data/..'))\n",
    "if module_path not in sys.path:\n",
    "    sys.path.append(module_path)\n",
    "    \n",
    "%matplotlib inline"
   ]
  },
  {
   "cell_type": "markdown",
   "metadata": {},
   "source": [
    "We will use two datasets, the reviews and the business info."
   ]
  },
  {
   "cell_type": "code",
   "execution_count": 3,
   "metadata": {},
   "outputs": [],
   "source": [
    "df = pd.read_csv(\"../../data/raw/yelp_review.csv\") \n",
    "bus = pd.read_csv(\"../../data/raw/yelp_business.csv\") "
   ]
  },
  {
   "cell_type": "markdown",
   "metadata": {},
   "source": [
    "Make a dataframe that details the first and last review of each business"
   ]
  },
  {
   "cell_type": "code",
   "execution_count": 4,
   "metadata": {},
   "outputs": [
    {
     "data": {
      "text/html": [
       "<div>\n",
       "<style scoped>\n",
       "    .dataframe tbody tr th:only-of-type {\n",
       "        vertical-align: middle;\n",
       "    }\n",
       "\n",
       "    .dataframe tbody tr th {\n",
       "        vertical-align: top;\n",
       "    }\n",
       "\n",
       "    .dataframe thead th {\n",
       "        text-align: right;\n",
       "    }\n",
       "</style>\n",
       "<table border=\"1\" class=\"dataframe\">\n",
       "  <thead>\n",
       "    <tr style=\"text-align: right;\">\n",
       "      <th></th>\n",
       "      <th>lastReview</th>\n",
       "      <th>firstReview</th>\n",
       "    </tr>\n",
       "    <tr>\n",
       "      <th>business_id</th>\n",
       "      <th></th>\n",
       "      <th></th>\n",
       "    </tr>\n",
       "  </thead>\n",
       "  <tbody>\n",
       "    <tr>\n",
       "      <th>--6MefnULPED_I942VcFNA</th>\n",
       "      <td>2017-12-04</td>\n",
       "      <td>2008-08-07</td>\n",
       "    </tr>\n",
       "    <tr>\n",
       "      <th>--7zmmkVg-IMGaXbuVd0SQ</th>\n",
       "      <td>2017-11-12</td>\n",
       "      <td>2014-12-30</td>\n",
       "    </tr>\n",
       "    <tr>\n",
       "      <th>--8LPVSo5i0Oo61X01sV9A</th>\n",
       "      <td>2017-06-28</td>\n",
       "      <td>2014-05-15</td>\n",
       "    </tr>\n",
       "    <tr>\n",
       "      <th>--9QQLMTbFzLJ_oT-ON3Xw</th>\n",
       "      <td>2017-05-02</td>\n",
       "      <td>2013-05-15</td>\n",
       "    </tr>\n",
       "    <tr>\n",
       "      <th>--9e1ONYQuAa-CB_Rrw7Tw</th>\n",
       "      <td>2017-12-11</td>\n",
       "      <td>2005-04-27</td>\n",
       "    </tr>\n",
       "  </tbody>\n",
       "</table>\n",
       "</div>"
      ],
      "text/plain": [
       "                       lastReview firstReview\n",
       "business_id                                  \n",
       "--6MefnULPED_I942VcFNA 2017-12-04  2008-08-07\n",
       "--7zmmkVg-IMGaXbuVd0SQ 2017-11-12  2014-12-30\n",
       "--8LPVSo5i0Oo61X01sV9A 2017-06-28  2014-05-15\n",
       "--9QQLMTbFzLJ_oT-ON3Xw 2017-05-02  2013-05-15\n",
       "--9e1ONYQuAa-CB_Rrw7Tw 2017-12-11  2005-04-27"
      ]
     },
     "execution_count": 4,
     "metadata": {},
     "output_type": "execute_result"
    }
   ],
   "source": [
    "#Filter the review dataset to just give the info we need and format dates correctly\n",
    "rev = df.filter(['review_id', 'business_id', 'stars', 'date'])\n",
    "rev['date'] =  pd.to_datetime(rev['date'], format='%Y-%m-%d')\n",
    "\n",
    "#Assemble all the reviews of one business into a group.\n",
    "groups = rev.groupby('business_id')\n",
    "newRev = pd.DataFrame(groups.max()['date']) #get the latest date\n",
    "newRev2 = pd.DataFrame(groups.min()['date']) #get the earliest date\n",
    "\n",
    "#Make a datframe with the earliest and latest review of each business\n",
    "dates = pd.concat([newRev, newRev2], axis=1)\n",
    "dates.columns = ['lastReview', 'firstReview']\n",
    "\n",
    "dates.head()"
   ]
  },
  {
   "cell_type": "markdown",
   "metadata": {},
   "source": [
    "Calculate the lifespan of each business in days and convert this value from datetime to an int"
   ]
  },
  {
   "cell_type": "code",
   "execution_count": 8,
   "metadata": {},
   "outputs": [],
   "source": [
    "dates['lifespan'] = dates.lastReview - dates.firstReview #lifespan if latest review in days, minus first review in days\n",
    "\n",
    "def convert(a):\n",
    "    b = a.total_seconds() #convert day to total seconds\n",
    "    totSec = b/86400 #divide the seconds to give the amount of days\n",
    "    totSec = int(totSec) #convert to int\n",
    "    return totSec\n",
    "\n",
    "dates['lifespan'] = dates.apply(lambda row: convert(row['lifespan']), axis=1) #convert all of the days to ints"
   ]
  },
  {
   "cell_type": "markdown",
   "metadata": {},
   "source": [
    "Combine the business info and dates info we just made"
   ]
  },
  {
   "cell_type": "code",
   "execution_count": 9,
   "metadata": {},
   "outputs": [
    {
     "data": {
      "text/html": [
       "<div>\n",
       "<style scoped>\n",
       "    .dataframe tbody tr th:only-of-type {\n",
       "        vertical-align: middle;\n",
       "    }\n",
       "\n",
       "    .dataframe tbody tr th {\n",
       "        vertical-align: top;\n",
       "    }\n",
       "\n",
       "    .dataframe thead th {\n",
       "        text-align: right;\n",
       "    }\n",
       "</style>\n",
       "<table border=\"1\" class=\"dataframe\">\n",
       "  <thead>\n",
       "    <tr style=\"text-align: right;\">\n",
       "      <th></th>\n",
       "      <th>name</th>\n",
       "      <th>stars</th>\n",
       "      <th>city</th>\n",
       "      <th>state</th>\n",
       "      <th>postal_code</th>\n",
       "      <th>review_count</th>\n",
       "      <th>is_open</th>\n",
       "      <th>lastReview</th>\n",
       "      <th>firstReview</th>\n",
       "      <th>lifespan</th>\n",
       "    </tr>\n",
       "  </thead>\n",
       "  <tbody>\n",
       "    <tr>\n",
       "      <th>--6MefnULPED_I942VcFNA</th>\n",
       "      <td>\"John's Chinese BBQ Restaurant\"</td>\n",
       "      <td>3.0</td>\n",
       "      <td>Richmond Hill</td>\n",
       "      <td>ON</td>\n",
       "      <td>L4B 3P7</td>\n",
       "      <td>37</td>\n",
       "      <td>1</td>\n",
       "      <td>2017-12-04</td>\n",
       "      <td>2008-08-07</td>\n",
       "      <td>3406</td>\n",
       "    </tr>\n",
       "    <tr>\n",
       "      <th>--7zmmkVg-IMGaXbuVd0SQ</th>\n",
       "      <td>\"Primal Brewery\"</td>\n",
       "      <td>4.0</td>\n",
       "      <td>Huntersville</td>\n",
       "      <td>NC</td>\n",
       "      <td>28078</td>\n",
       "      <td>47</td>\n",
       "      <td>1</td>\n",
       "      <td>2017-11-12</td>\n",
       "      <td>2014-12-30</td>\n",
       "      <td>1048</td>\n",
       "    </tr>\n",
       "    <tr>\n",
       "      <th>--8LPVSo5i0Oo61X01sV9A</th>\n",
       "      <td>\"Valley Bone and Joint Specialists\"</td>\n",
       "      <td>4.5</td>\n",
       "      <td>Gilbert</td>\n",
       "      <td>AZ</td>\n",
       "      <td>85234</td>\n",
       "      <td>3</td>\n",
       "      <td>1</td>\n",
       "      <td>2017-06-28</td>\n",
       "      <td>2014-05-15</td>\n",
       "      <td>1140</td>\n",
       "    </tr>\n",
       "    <tr>\n",
       "      <th>--9QQLMTbFzLJ_oT-ON3Xw</th>\n",
       "      <td>\"Great Clips\"</td>\n",
       "      <td>3.5</td>\n",
       "      <td>Tempe</td>\n",
       "      <td>AZ</td>\n",
       "      <td>85283</td>\n",
       "      <td>11</td>\n",
       "      <td>1</td>\n",
       "      <td>2017-05-02</td>\n",
       "      <td>2013-05-15</td>\n",
       "      <td>1448</td>\n",
       "    </tr>\n",
       "    <tr>\n",
       "      <th>--9e1ONYQuAa-CB_Rrw7Tw</th>\n",
       "      <td>\"Delmonico Steakhouse\"</td>\n",
       "      <td>4.0</td>\n",
       "      <td>Las Vegas</td>\n",
       "      <td>NV</td>\n",
       "      <td>89109</td>\n",
       "      <td>1451</td>\n",
       "      <td>1</td>\n",
       "      <td>2017-12-11</td>\n",
       "      <td>2005-04-27</td>\n",
       "      <td>4611</td>\n",
       "    </tr>\n",
       "  </tbody>\n",
       "</table>\n",
       "</div>"
      ],
      "text/plain": [
       "                                                       name  stars  \\\n",
       "--6MefnULPED_I942VcFNA      \"John's Chinese BBQ Restaurant\"    3.0   \n",
       "--7zmmkVg-IMGaXbuVd0SQ                     \"Primal Brewery\"    4.0   \n",
       "--8LPVSo5i0Oo61X01sV9A  \"Valley Bone and Joint Specialists\"    4.5   \n",
       "--9QQLMTbFzLJ_oT-ON3Xw                        \"Great Clips\"    3.5   \n",
       "--9e1ONYQuAa-CB_Rrw7Tw               \"Delmonico Steakhouse\"    4.0   \n",
       "\n",
       "                                 city state postal_code  review_count  \\\n",
       "--6MefnULPED_I942VcFNA  Richmond Hill    ON     L4B 3P7            37   \n",
       "--7zmmkVg-IMGaXbuVd0SQ   Huntersville    NC       28078            47   \n",
       "--8LPVSo5i0Oo61X01sV9A        Gilbert    AZ       85234             3   \n",
       "--9QQLMTbFzLJ_oT-ON3Xw          Tempe    AZ       85283            11   \n",
       "--9e1ONYQuAa-CB_Rrw7Tw      Las Vegas    NV       89109          1451   \n",
       "\n",
       "                        is_open lastReview firstReview  lifespan  \n",
       "--6MefnULPED_I942VcFNA        1 2017-12-04  2008-08-07      3406  \n",
       "--7zmmkVg-IMGaXbuVd0SQ        1 2017-11-12  2014-12-30      1048  \n",
       "--8LPVSo5i0Oo61X01sV9A        1 2017-06-28  2014-05-15      1140  \n",
       "--9QQLMTbFzLJ_oT-ON3Xw        1 2017-05-02  2013-05-15      1448  \n",
       "--9e1ONYQuAa-CB_Rrw7Tw        1 2017-12-11  2005-04-27      4611  "
      ]
     },
     "execution_count": 9,
     "metadata": {},
     "output_type": "execute_result"
    }
   ],
   "source": [
    "biz = bus.filter(['business_id', 'name', 'stars', 'city', 'state', 'postal_code', 'review_count', 'is_open'])\n",
    "biz = biz.set_index('business_id')\n",
    "revInfo = pd.concat([biz, dates], axis=1)\n",
    "\n",
    "revInfo.head()"
   ]
  },
  {
   "cell_type": "markdown",
   "metadata": {},
   "source": [
    "How many days does this dataframe Span?"
   ]
  },
  {
   "cell_type": "code",
   "execution_count": 10,
   "metadata": {},
   "outputs": [
    {
     "name": "stdout",
     "output_type": "stream",
     "text": [
      "4890 days 00:00:00\n"
     ]
    }
   ],
   "source": [
    "dfSpan = revInfo['lastReview'].max() - revInfo['firstReview'].min()\n",
    "print(dfSpan)"
   ]
  },
  {
   "cell_type": "markdown",
   "metadata": {},
   "source": [
    "Why keep postcode? - Incase we want to do map studies on this topic."
   ]
  },
  {
   "cell_type": "markdown",
   "metadata": {},
   "source": [
    "## Lifespans of Closed Businesses by Star Category\n",
    "Fix these because theres no labels"
   ]
  },
  {
   "cell_type": "code",
   "execution_count": 14,
   "metadata": {},
   "outputs": [
    {
     "data": {
      "text/plain": [
       "stars\n",
       "1.0    AxesSubplot(0.125,0.125;0.775x0.755)\n",
       "1.5    AxesSubplot(0.125,0.125;0.775x0.755)\n",
       "2.0    AxesSubplot(0.125,0.125;0.775x0.755)\n",
       "2.5    AxesSubplot(0.125,0.125;0.775x0.755)\n",
       "3.0    AxesSubplot(0.125,0.125;0.775x0.755)\n",
       "3.5    AxesSubplot(0.125,0.125;0.775x0.755)\n",
       "4.0    AxesSubplot(0.125,0.125;0.775x0.755)\n",
       "4.5    AxesSubplot(0.125,0.125;0.775x0.755)\n",
       "5.0    AxesSubplot(0.125,0.125;0.775x0.755)\n",
       "dtype: object"
      ]
     },
     "execution_count": 14,
     "metadata": {},
     "output_type": "execute_result"
    },
    {
     "data": {
      "image/png": "[encoded data removed]",
      "text/plain": [
       "<matplotlib.figure.Figure at 0x18aa016b8d0>"
      ]
     },
     "metadata": {},
     "output_type": "display_data"
    },
    {
     "data": {
      "image/png": "[encoded data removed]",
      "text/plain": [
       "<matplotlib.figure.Figure at 0x18bb34141d0>"
      ]
     },
     "metadata": {},
     "output_type": "display_data"
    },
    {
     "data": {
      "image/png": "[encoded data removed]",
      "text/plain": [
       "<matplotlib.figure.Figure at 0x18aa0da11d0>"
      ]
     },
     "metadata": {},
     "output_type": "display_data"
    },
    {
     "data": {
      "image/png": "[encoded data removed]",
      "text/plain": [
       "<matplotlib.figure.Figure at 0x18aa3454b70>"
      ]
     },
     "metadata": {},
     "output_type": "display_data"
    },
    {
     "data": {
      "image/png": "[encoded data removed]",
      "text/plain": [
       "<matplotlib.figure.Figure at 0x18aa348cac8>"
      ]
     },
     "metadata": {},
     "output_type": "display_data"
    },
    {
     "data": {
      "image/png": "[encoded data removed]",
      "text/plain": [
       "<matplotlib.figure.Figure at 0x18aa351c320>"
      ]
     },
     "metadata": {},
     "output_type": "display_data"
    },
    {
     "data": {
      "image/png": "[encoded data removed]",
      "text/plain": [
       "<matplotlib.figure.Figure at 0x18aa3c9afd0>"
      ]
     },
     "metadata": {},
     "output_type": "display_data"
    },
    {
     "data": {
      "image/png": "[encoded data removed]",
      "text/plain": [
       "<matplotlib.figure.Figure at 0x18aa3ca86d8>"
      ]
     },
     "metadata": {},
     "output_type": "display_data"
    },
    {
     "data": {
      "image/png": "[encoded data removed]",
      "text/plain": [
       "<matplotlib.figure.Figure at 0x18aa3ecb780>"
      ]
     },
     "metadata": {},
     "output_type": "display_data"
    }
   ],
   "source": [
    "closed = revInfo[revInfo['is_open'] == 0] #0 denotes a closed business\n",
    "\n",
    "closed.groupby('stars').plot(kind='hist', y ='lifespan', bins=20, legend=False, normed=1)"
   ]
  },
  {
   "cell_type": "markdown",
   "metadata": {},
   "source": [
    "### Conclusions:\n",
    "- Businesses that closed with 5 stars tend to have a shorter lifespan, the same as pattern as 1 star restaraunts."
   ]
  },
  {
   "cell_type": "markdown",
   "metadata": {},
   "source": [
    "## How do ratings deviate? What's the difference between open and closed businesses?"
   ]
  },
  {
   "cell_type": "code",
   "execution_count": 5,
   "metadata": {},
   "outputs": [
    {
     "data": {
      "text/html": [
       "<div>\n",
       "<style scoped>\n",
       "    .dataframe tbody tr th:only-of-type {\n",
       "        vertical-align: middle;\n",
       "    }\n",
       "\n",
       "    .dataframe tbody tr th {\n",
       "        vertical-align: top;\n",
       "    }\n",
       "\n",
       "    .dataframe thead th {\n",
       "        text-align: right;\n",
       "    }\n",
       "</style>\n",
       "<table border=\"1\" class=\"dataframe\">\n",
       "  <thead>\n",
       "    <tr style=\"text-align: right;\">\n",
       "      <th></th>\n",
       "      <th>review_id</th>\n",
       "      <th>business_id</th>\n",
       "      <th>stars</th>\n",
       "      <th>date</th>\n",
       "      <th>revrate</th>\n",
       "    </tr>\n",
       "  </thead>\n",
       "  <tbody>\n",
       "    <tr>\n",
       "      <th>0</th>\n",
       "      <td>vkVSCC7xljjrAI4UGfnKEQ</td>\n",
       "      <td>AEx2SYEUJmTxVVB18LlCwA</td>\n",
       "      <td>5</td>\n",
       "      <td>2016-05-28</td>\n",
       "      <td>(2016-05-28, 5)</td>\n",
       "    </tr>\n",
       "    <tr>\n",
       "      <th>1</th>\n",
       "      <td>n6QzIUObkYshz4dz2QRJTw</td>\n",
       "      <td>VR6GpWIda3SfvPC-lg9H3w</td>\n",
       "      <td>5</td>\n",
       "      <td>2016-05-28</td>\n",
       "      <td>(2016-05-28, 5)</td>\n",
       "    </tr>\n",
       "    <tr>\n",
       "      <th>2</th>\n",
       "      <td>MV3CcKScW05u5LVfF6ok0g</td>\n",
       "      <td>CKC0-MOWMqoeWf6s-szl8g</td>\n",
       "      <td>5</td>\n",
       "      <td>2016-05-28</td>\n",
       "      <td>(2016-05-28, 5)</td>\n",
       "    </tr>\n",
       "    <tr>\n",
       "      <th>3</th>\n",
       "      <td>IXvOzsEMYtiJI0CARmj77Q</td>\n",
       "      <td>ACFtxLv8pGrrxMm6EgjreA</td>\n",
       "      <td>4</td>\n",
       "      <td>2016-05-28</td>\n",
       "      <td>(2016-05-28, 4)</td>\n",
       "    </tr>\n",
       "    <tr>\n",
       "      <th>4</th>\n",
       "      <td>L_9BTb55X0GDtThi6GlZ6w</td>\n",
       "      <td>s2I_Ni76bjJNK9yG60iD-Q</td>\n",
       "      <td>4</td>\n",
       "      <td>2016-05-28</td>\n",
       "      <td>(2016-05-28, 4)</td>\n",
       "    </tr>\n",
       "  </tbody>\n",
       "</table>\n",
       "</div>"
      ],
      "text/plain": [
       "                review_id             business_id  stars        date  \\\n",
       "0  vkVSCC7xljjrAI4UGfnKEQ  AEx2SYEUJmTxVVB18LlCwA      5  2016-05-28   \n",
       "1  n6QzIUObkYshz4dz2QRJTw  VR6GpWIda3SfvPC-lg9H3w      5  2016-05-28   \n",
       "2  MV3CcKScW05u5LVfF6ok0g  CKC0-MOWMqoeWf6s-szl8g      5  2016-05-28   \n",
       "3  IXvOzsEMYtiJI0CARmj77Q  ACFtxLv8pGrrxMm6EgjreA      4  2016-05-28   \n",
       "4  L_9BTb55X0GDtThi6GlZ6w  s2I_Ni76bjJNK9yG60iD-Q      4  2016-05-28   \n",
       "\n",
       "           revrate  \n",
       "0  (2016-05-28, 5)  \n",
       "1  (2016-05-28, 5)  \n",
       "2  (2016-05-28, 5)  \n",
       "3  (2016-05-28, 4)  \n",
       "4  (2016-05-28, 4)  "
      ]
     },
     "execution_count": 5,
     "metadata": {},
     "output_type": "execute_result"
    }
   ],
   "source": [
    "dateStudy = df.filter(['review_id', 'business_id', 'stars', 'date']) #only take thte columns we need\n",
    "review_list = list(zip(dateStudy.date, dateStudy.stars)) #convert date and time of each review to a tuple\n",
    "dateStudy['revrate'] = pd.Series(review_list) #make this a column in the dataset\n",
    "dateStudy.head()"
   ]
  },
  {
   "cell_type": "code",
   "execution_count": 13,
   "metadata": {},
   "outputs": [
    {
     "data": {
      "text/html": [
       "<div>\n",
       "<style scoped>\n",
       "    .dataframe tbody tr th:only-of-type {\n",
       "        vertical-align: middle;\n",
       "    }\n",
       "\n",
       "    .dataframe tbody tr th {\n",
       "        vertical-align: top;\n",
       "    }\n",
       "\n",
       "    .dataframe thead th {\n",
       "        text-align: right;\n",
       "    }\n",
       "</style>\n",
       "<table border=\"1\" class=\"dataframe\">\n",
       "  <thead>\n",
       "    <tr style=\"text-align: right;\">\n",
       "      <th></th>\n",
       "      <th>revrate</th>\n",
       "    </tr>\n",
       "    <tr>\n",
       "      <th>business_id</th>\n",
       "      <th></th>\n",
       "    </tr>\n",
       "  </thead>\n",
       "  <tbody>\n",
       "    <tr>\n",
       "      <th>--6MefnULPED_I942VcFNA</th>\n",
       "      <td>[(2017-08-17, 4), (2017-05-31, 3), (2016-10-23...</td>\n",
       "    </tr>\n",
       "    <tr>\n",
       "      <th>--7zmmkVg-IMGaXbuVd0SQ</th>\n",
       "      <td>[(2015-11-30, 4), (2017-08-16, 4), (2016-08-18...</td>\n",
       "    </tr>\n",
       "    <tr>\n",
       "      <th>--8LPVSo5i0Oo61X01sV9A</th>\n",
       "      <td>[(2016-07-29, 3), (2017-06-28, 5), (2014-05-15...</td>\n",
       "    </tr>\n",
       "    <tr>\n",
       "      <th>--9QQLMTbFzLJ_oT-ON3Xw</th>\n",
       "      <td>[(2016-04-02, 2), (2013-05-15, 4), (2017-05-02...</td>\n",
       "    </tr>\n",
       "    <tr>\n",
       "      <th>--9e1ONYQuAa-CB_Rrw7Tw</th>\n",
       "      <td>[(2011-08-24, 5), (2016-03-31, 5), (2015-06-29...</td>\n",
       "    </tr>\n",
       "  </tbody>\n",
       "</table>\n",
       "</div>"
      ],
      "text/plain": [
       "                                                                  revrate\n",
       "business_id                                                              \n",
       "--6MefnULPED_I942VcFNA  [(2017-08-17, 4), (2017-05-31, 3), (2016-10-23...\n",
       "--7zmmkVg-IMGaXbuVd0SQ  [(2015-11-30, 4), (2017-08-16, 4), (2016-08-18...\n",
       "--8LPVSo5i0Oo61X01sV9A  [(2016-07-29, 3), (2017-06-28, 5), (2014-05-15...\n",
       "--9QQLMTbFzLJ_oT-ON3Xw  [(2016-04-02, 2), (2013-05-15, 4), (2017-05-02...\n",
       "--9e1ONYQuAa-CB_Rrw7Tw  [(2011-08-24, 5), (2016-03-31, 5), (2015-06-29..."
      ]
     },
     "execution_count": 13,
     "metadata": {},
     "output_type": "execute_result"
    }
   ],
   "source": [
    "dateLists = dateStudy.groupby('business_id')['revrate'].apply(list)\n",
    "reviewsTemplate = pd.DataFrame(dateLists)  # Make a dataframe of business id, all review info\n",
    "reviewsTemplate.head()"
   ]
  },
  {
   "cell_type": "code",
   "execution_count": 14,
   "metadata": {},
   "outputs": [
    {
     "data": {
      "text/html": [
       "<div>\n",
       "<style scoped>\n",
       "    .dataframe tbody tr th:only-of-type {\n",
       "        vertical-align: middle;\n",
       "    }\n",
       "\n",
       "    .dataframe tbody tr th {\n",
       "        vertical-align: top;\n",
       "    }\n",
       "\n",
       "    .dataframe thead th {\n",
       "        text-align: right;\n",
       "    }\n",
       "</style>\n",
       "<table border=\"1\" class=\"dataframe\">\n",
       "  <thead>\n",
       "    <tr style=\"text-align: right;\">\n",
       "      <th></th>\n",
       "      <th>revrate</th>\n",
       "      <th>is_open</th>\n",
       "    </tr>\n",
       "  </thead>\n",
       "  <tbody>\n",
       "    <tr>\n",
       "      <th>--6MefnULPED_I942VcFNA</th>\n",
       "      <td>[(2017-08-17, 4), (2017-05-31, 3), (2016-10-23...</td>\n",
       "      <td>1</td>\n",
       "    </tr>\n",
       "    <tr>\n",
       "      <th>--7zmmkVg-IMGaXbuVd0SQ</th>\n",
       "      <td>[(2015-11-30, 4), (2017-08-16, 4), (2016-08-18...</td>\n",
       "      <td>1</td>\n",
       "    </tr>\n",
       "    <tr>\n",
       "      <th>--8LPVSo5i0Oo61X01sV9A</th>\n",
       "      <td>[(2016-07-29, 3), (2017-06-28, 5), (2014-05-15...</td>\n",
       "      <td>1</td>\n",
       "    </tr>\n",
       "    <tr>\n",
       "      <th>--9QQLMTbFzLJ_oT-ON3Xw</th>\n",
       "      <td>[(2016-04-02, 2), (2013-05-15, 4), (2017-05-02...</td>\n",
       "      <td>1</td>\n",
       "    </tr>\n",
       "    <tr>\n",
       "      <th>--9e1ONYQuAa-CB_Rrw7Tw</th>\n",
       "      <td>[(2011-08-24, 5), (2016-03-31, 5), (2015-06-29...</td>\n",
       "      <td>1</td>\n",
       "    </tr>\n",
       "  </tbody>\n",
       "</table>\n",
       "</div>"
      ],
      "text/plain": [
       "                                                                  revrate  \\\n",
       "--6MefnULPED_I942VcFNA  [(2017-08-17, 4), (2017-05-31, 3), (2016-10-23...   \n",
       "--7zmmkVg-IMGaXbuVd0SQ  [(2015-11-30, 4), (2017-08-16, 4), (2016-08-18...   \n",
       "--8LPVSo5i0Oo61X01sV9A  [(2016-07-29, 3), (2017-06-28, 5), (2014-05-15...   \n",
       "--9QQLMTbFzLJ_oT-ON3Xw  [(2016-04-02, 2), (2013-05-15, 4), (2017-05-02...   \n",
       "--9e1ONYQuAa-CB_Rrw7Tw  [(2011-08-24, 5), (2016-03-31, 5), (2015-06-29...   \n",
       "\n",
       "                        is_open  \n",
       "--6MefnULPED_I942VcFNA        1  \n",
       "--7zmmkVg-IMGaXbuVd0SQ        1  \n",
       "--8LPVSo5i0Oo61X01sV9A        1  \n",
       "--9QQLMTbFzLJ_oT-ON3Xw        1  \n",
       "--9e1ONYQuAa-CB_Rrw7Tw        1  "
      ]
     },
     "execution_count": 14,
     "metadata": {},
     "output_type": "execute_result"
    }
   ],
   "source": [
    "openClose = bus.filter(['business_id', 'is_open']) #get the \"is_open\" info from the original business dataframe\n",
    "openClose = openClose.set_index('business_id') #set the index to business id\n",
    "\n",
    "#Combine new review info and is_open info into a dataframe\n",
    "reviews = pd.concat([reviewsTemplate, openClose], axis=1) \n",
    "reviews.head()"
   ]
  },
  {
   "cell_type": "markdown",
   "metadata": {},
   "source": [
    "### What does a rating timeline look for a business?\n",
    "It's v messy I must clean :("
   ]
  },
  {
   "cell_type": "code",
   "execution_count": 16,
   "metadata": {},
   "outputs": [
    {
     "data": {
      "text/plain": [
       "[<matplotlib.lines.Line2D at 0x27afe66f2e8>]"
      ]
     },
     "execution_count": 16,
     "metadata": {},
     "output_type": "execute_result"
    },
    {
     "data": {
      "image/png": "[encoded data removed]",
      "text/plain": [
       "<matplotlib.figure.Figure at 0x27afa0e1400>"
      ]
     },
     "metadata": {},
     "output_type": "display_data"
    }
   ],
   "source": [
    "s = reviews['revrate'][0] #choose a business\n",
    "sortS = sorted(s, key=lambda tup: tup[0]) #sort from earliest to latest\n",
    "x,y = zip(*sortS) #sort tuples into x and y lists of values\n",
    "plt.plot(x,y) #plot"
   ]
  },
  {
   "cell_type": "code",
   "execution_count": 17,
   "metadata": {},
   "outputs": [],
   "source": [
    "closedBiz = reviews[reviews['is_open'] == 0] #make a closed business list\n",
    "openBiz = reviews[reviews['is_open'] == 1] #make an open business list\n",
    "\n",
    "#lists to hold the standard devations of each category\n",
    "closedStds = []\n",
    "openStds = []\n",
    "\n",
    "#Get each closed business' review info, sort the ratings, calculate the devation for each business, add to list\n",
    "for i in range(len(closedBiz)):\n",
    "    s = closedBiz['revrate'][i]\n",
    "    sortS = sorted(s, key=lambda tup: tup[0])\n",
    "    x,y = zip(*sortS)\n",
    "    standard = np.std(y)\n",
    "    closedStds.append(standard)\n",
    "\n",
    "#Get each open business' review info, sort the ratings, calculate the devation for each business, add to list\n",
    "for i in range(len(openBiz)):\n",
    "    s = openBiz['revrate'][i]\n",
    "    sortS = sorted(s, key=lambda tup: tup[0])\n",
    "    x,y = zip(*sortS)\n",
    "    standard = np.std(y)\n",
    "    openStds.append(standard)"
   ]
  },
  {
   "cell_type": "markdown",
   "metadata": {},
   "source": [
    "### Standard Deviation of Open Vs. Closed:\n",
    "Make a graph?"
   ]
  },
  {
   "cell_type": "code",
   "execution_count": 18,
   "metadata": {},
   "outputs": [
    {
     "name": "stdout",
     "output_type": "stream",
     "text": [
      "Average Standard Deviation of Closed Business' Reviews: 1.0629774419594056\n",
      "Average Standard Deviation of Open Business' Reviews: 1.0681105124597579\n"
     ]
    }
   ],
   "source": [
    "avg1 = float(sum(closedStds))/len(closedStds)\n",
    "print(\"Average Standard Deviation of Closed Business' Reviews: \" + str(avg1))\n",
    "\n",
    "avg2 = float(sum(openStds))/len(openStds)\n",
    "print(\"Average Standard Deviation of Open Business' Reviews: \" + str(avg2))"
   ]
  },
  {
   "cell_type": "markdown",
   "metadata": {},
   "source": [
    "### What about in the \"last half\" of their lifespan?"
   ]
  },
  {
   "cell_type": "code",
   "execution_count": 26,
   "metadata": {},
   "outputs": [
    {
     "name": "stdout",
     "output_type": "stream",
     "text": [
      "0.9605787134072086\n",
      "0.9452227083914434\n"
     ]
    }
   ],
   "source": [
    "closedBiz = reviews[reviews['is_open'] == 0]\n",
    "openBiz = reviews[reviews['is_open'] == 1]\n",
    "\n",
    "closedStds = []\n",
    "openStds = []\n",
    "\n",
    "lenCB = int(len(closedBiz))\n",
    "lenOB = int(len(openBiz))\n",
    "\n",
    "for i in range(lenCB):\n",
    "    s = closedBiz['revrate'][i]\n",
    "    sortS = sorted(s, key=lambda tup: tup[0])\n",
    "    x,y = zip(*sortS)\n",
    "    half = int(len(y)/2)\n",
    "    standard = np.std(y[half:])\n",
    "    closedStds.append(standard)\n",
    "\n",
    "for i in range(lenOB):\n",
    "    s = openBiz['revrate'][i]\n",
    "    sortS = sorted(s, key=lambda tup: tup[0])\n",
    "    x,y = zip(*sortS)\n",
    "    half = int(len(y)/2)\n",
    "    standard = np.std(y[half:])\n",
    "    openStds.append(standard)"
   ]
  },
  {
   "cell_type": "code",
   "execution_count": 28,
   "metadata": {},
   "outputs": [
    {
     "name": "stdout",
     "output_type": "stream",
     "text": [
      "Standard Deviation of Closed Reviews in Last Half of Lifespan: 0.9605787134072086\n",
      "Standard Deviation of Open Reviews in Last Half of Lifespan: 0.9452227083914434\n"
     ]
    }
   ],
   "source": [
    "avg1 = float(sum(closedStds))/len(closedStds)\n",
    "print(\"Standard Deviation of Closed Reviews in Last Half of Lifespan: \" + str(avg1))\n",
    "\n",
    "avg2 = float(sum(openStds))/len(openStds)\n",
    "print(\"Standard Deviation of Open Reviews in Last Half of Lifespan: \" + str(avg2))"
   ]
  },
  {
   "cell_type": "markdown",
   "metadata": {},
   "source": [
    "### RQ1 Part 2) Number of Reviews vs. Standard Deviation of Rating"
   ]
  },
  {
   "cell_type": "code",
   "execution_count": 34,
   "metadata": {},
   "outputs": [],
   "source": [
    "stds = []\n",
    "\n",
    "for i in range(len(reviews)):\n",
    "    s = reviews['revrate'][i]\n",
    "    sortS = sorted(s, key=lambda tup: tup[0])\n",
    "    x,y = zip(*sortS)\n",
    "    standard = np.std(y)\n",
    "    stds.append(standard)\n",
    "    \n",
    "reviews['devs'] = pd.Series(stds, index=reviews.index)"
   ]
  },
  {
   "cell_type": "code",
   "execution_count": 39,
   "metadata": {},
   "outputs": [],
   "source": [
    "rev_count = []\n",
    "for i in range(len(reviews)):\n",
    "    count = len(reviews['revrate'][i])\n",
    "    rev_count.append(count)\n",
    "    \n",
    "reviews['rev_count'] = pd.Series(rev_count, index=reviews.index)"
   ]
  },
  {
   "cell_type": "code",
   "execution_count": 133,
   "metadata": {},
   "outputs": [
    {
     "data": {
      "text/html": [
       "<div>\n",
       "<style scoped>\n",
       "    .dataframe tbody tr th:only-of-type {\n",
       "        vertical-align: middle;\n",
       "    }\n",
       "\n",
       "    .dataframe tbody tr th {\n",
       "        vertical-align: top;\n",
       "    }\n",
       "\n",
       "    .dataframe thead th {\n",
       "        text-align: right;\n",
       "    }\n",
       "</style>\n",
       "<table border=\"1\" class=\"dataframe\">\n",
       "  <thead>\n",
       "    <tr style=\"text-align: right;\">\n",
       "      <th></th>\n",
       "      <th>revrate</th>\n",
       "      <th>is_open</th>\n",
       "      <th>devs</th>\n",
       "      <th>rev_count</th>\n",
       "      <th>revCountRange</th>\n",
       "    </tr>\n",
       "  </thead>\n",
       "  <tbody>\n",
       "    <tr>\n",
       "      <th>--6MefnULPED_I942VcFNA</th>\n",
       "      <td>[(2017-08-17, 4), (2017-05-31, 3), (2016-10-23...</td>\n",
       "      <td>1</td>\n",
       "      <td>1.318520</td>\n",
       "      <td>37</td>\n",
       "      <td>(10.013, 109.7]</td>\n",
       "    </tr>\n",
       "    <tr>\n",
       "      <th>--7zmmkVg-IMGaXbuVd0SQ</th>\n",
       "      <td>[(2015-11-30, 4), (2017-08-16, 4), (2016-08-18...</td>\n",
       "      <td>1</td>\n",
       "      <td>1.220023</td>\n",
       "      <td>47</td>\n",
       "      <td>(10.013, 109.7]</td>\n",
       "    </tr>\n",
       "    <tr>\n",
       "      <th>--8LPVSo5i0Oo61X01sV9A</th>\n",
       "      <td>[(2016-07-29, 3), (2017-06-28, 5), (2014-05-15...</td>\n",
       "      <td>1</td>\n",
       "      <td>0.942809</td>\n",
       "      <td>3</td>\n",
       "      <td>NaN</td>\n",
       "    </tr>\n",
       "    <tr>\n",
       "      <th>--9QQLMTbFzLJ_oT-ON3Xw</th>\n",
       "      <td>[(2016-04-02, 2), (2013-05-15, 4), (2017-05-02...</td>\n",
       "      <td>1</td>\n",
       "      <td>1.720081</td>\n",
       "      <td>11</td>\n",
       "      <td>(10.013, 109.7]</td>\n",
       "    </tr>\n",
       "    <tr>\n",
       "      <th>--9e1ONYQuAa-CB_Rrw7Tw</th>\n",
       "      <td>[(2011-08-24, 5), (2016-03-31, 5), (2015-06-29...</td>\n",
       "      <td>1</td>\n",
       "      <td>1.109303</td>\n",
       "      <td>1451</td>\n",
       "      <td>NaN</td>\n",
       "    </tr>\n",
       "  </tbody>\n",
       "</table>\n",
       "</div>"
      ],
      "text/plain": [
       "                                                                  revrate  \\\n",
       "--6MefnULPED_I942VcFNA  [(2017-08-17, 4), (2017-05-31, 3), (2016-10-23...   \n",
       "--7zmmkVg-IMGaXbuVd0SQ  [(2015-11-30, 4), (2017-08-16, 4), (2016-08-18...   \n",
       "--8LPVSo5i0Oo61X01sV9A  [(2016-07-29, 3), (2017-06-28, 5), (2014-05-15...   \n",
       "--9QQLMTbFzLJ_oT-ON3Xw  [(2016-04-02, 2), (2013-05-15, 4), (2017-05-02...   \n",
       "--9e1ONYQuAa-CB_Rrw7Tw  [(2011-08-24, 5), (2016-03-31, 5), (2015-06-29...   \n",
       "\n",
       "                        is_open      devs  rev_count    revCountRange  \n",
       "--6MefnULPED_I942VcFNA        1  1.318520         37  (10.013, 109.7]  \n",
       "--7zmmkVg-IMGaXbuVd0SQ        1  1.220023         47  (10.013, 109.7]  \n",
       "--8LPVSo5i0Oo61X01sV9A        1  0.942809          3              NaN  \n",
       "--9QQLMTbFzLJ_oT-ON3Xw        1  1.720081         11  (10.013, 109.7]  \n",
       "--9e1ONYQuAa-CB_Rrw7Tw        1  1.109303       1451              NaN  "
      ]
     },
     "execution_count": 133,
     "metadata": {},
     "output_type": "execute_result"
    }
   ],
   "source": [
    "one = reviews[reviews['rev_count'] < 1000]\n",
    "two = one[one['rev_count'] > 10]\n",
    "\n",
    "intervalGroups = pd.cut(two['rev_count'], 10)\n",
    "reviews['revCountRange'] = pd.Series(intervalGroups, index=reviews.index)\n",
    "\n",
    "reviews.head()"
   ]
  },
  {
   "cell_type": "markdown",
   "metadata": {},
   "source": [
    "The more reviews a business have, the more consistently they are reviews (in that same group of review number)"
   ]
  },
  {
   "cell_type": "code",
   "execution_count": 131,
   "metadata": {},
   "outputs": [
    {
     "data": {
      "text/plain": [
       "<matplotlib.axes._subplots.AxesSubplot at 0x27ab6cbf5f8>"
      ]
     },
     "execution_count": 131,
     "metadata": {},
     "output_type": "execute_result"
    },
    {
     "data": {
      "image/png": "[encoded data removed]",
      "text/plain": [
       "<matplotlib.figure.Figure at 0x27ab6491ac8>"
      ]
     },
     "metadata": {},
     "output_type": "display_data"
    }
   ],
   "source": [
    "groups = reviews.groupby('revCountRange')\n",
    "groups['devs'].std().plot(kind='bar')\n"
   ]
  },
  {
   "cell_type": "markdown",
   "metadata": {},
   "source": [
    "### Average rating during \"first half\" and average rating during \"last half\" of lifespan for open vs closed."
   ]
  },
  {
   "cell_type": "code",
   "execution_count": 162,
   "metadata": {},
   "outputs": [
    {
     "name": "stdout",
     "output_type": "stream",
     "text": [
      "Average Rating for Closed Businesses in First Half of Lifespan: 3.5853801102356906\n",
      "Average Rating for Open Businesses in First Half of Lifespan: 3.7045099429694797\n",
      "Average Rating for Closed Businesses in Second Half of Lifespan: 3.4422123181736346\n",
      "Average Rating for Open Businesses in Second Half of Lifespan: 3.625387801206223\n",
      "Conclusions:\n",
      "Closed Rating drop by 0.143167792062056\n",
      "Open Rating drop by 0.0791221417632566\n"
     ]
    }
   ],
   "source": [
    "closedBiz = reviews[reviews['is_open'] == 0]\n",
    "openBiz = reviews[reviews['is_open'] == 1]\n",
    "\n",
    "closedMeanFirst = []\n",
    "openMeanFirst = []\n",
    "closedMeanSecond = []\n",
    "openMeanSecond = []\n",
    "\n",
    "lenCB = int(len(closedBiz))\n",
    "lenOB = int(len(openBiz))\n",
    "\n",
    "for i in range(lenCB):\n",
    "    s = closedBiz['revrate'][i]\n",
    "    sortS = sorted(s, key=lambda tup: tup[0])\n",
    "    x,y = zip(*sortS)\n",
    "    \n",
    "    if len(y) > 4:\n",
    "        quarter = (len(y)/4)\n",
    "        q3 = int(quarter*3)\n",
    "        firstRating = (y[:q3])\n",
    "        sum1 = 0\n",
    "        for i in firstRating:\n",
    "            sum1 = sum1 + i\n",
    "    \n",
    "        fR = sum1/len(firstRating)\n",
    "        \n",
    "        secondRating = (y[q3:])\n",
    "    \n",
    "        sum2 = 0\n",
    "        for i in secondRating:\n",
    "            sum2 = sum2 + i\n",
    "        \n",
    "        sR = sum2/len(secondRating)\n",
    "        \n",
    "        closedMeanFirst.append(fR)\n",
    "        closedMeanSecond.append(sR)\n",
    "    else:\n",
    "        closedMeanSecond.append(y[0])\n",
    "\n",
    "\n",
    "for i in range(lenOB):\n",
    "    s = openBiz['revrate'][i]\n",
    "    sortS = sorted(s, key=lambda tup: tup[0])\n",
    "    x,y = zip(*sortS)\n",
    "    \n",
    "    if len(y) > 4:\n",
    "        quarter = (len(y)/4)\n",
    "        q3 = int(quarter*3)\n",
    "        \n",
    "        firstRating = (y[:q3])\n",
    "        sum1 = 0\n",
    "        for i in firstRating:\n",
    "            sum1 = sum1 + i\n",
    "    \n",
    "        fR = sum1/len(firstRating)\n",
    "        \n",
    "        secondRating = (y[q3:])\n",
    "    \n",
    "        sum2 = 0\n",
    "        for i in secondRating:\n",
    "            sum2 = sum2 + i\n",
    "        \n",
    "        sR = sum2/len(secondRating)\n",
    "        openMeanFirst.append(fR)\n",
    "        openMeanSecond.append(sR)\n",
    "    else:\n",
    "        openMeanSecond.append(y[0])\n",
    "    \n",
    "cFmean = float(sum(closedMeanFirst))/len(closedMeanFirst)\n",
    "print(\"Average Rating for Closed Businesses in First Half of Lifespan: \" + str(cFmean))\n",
    "\n",
    "oFmean = float(sum(openMeanFirst))/len(openMeanFirst)\n",
    "print(\"Average Rating for Open Businesses in First Half of Lifespan: \" + str(oFmean))\n",
    "\n",
    "cSmean = float(sum(closedMeanSecond))/len(closedMeanSecond)\n",
    "print(\"Average Rating for Closed Businesses in Second Half of Lifespan: \" + str(cSmean))\n",
    "\n",
    "oSmean = float(sum(openMeanSecond))/len(openMeanSecond)\n",
    "print(\"Average Rating for Open Businesses in Second Half of Lifespan: \" + str(oSmean))\n",
    "\n",
    "print(\"Conclusions:\")\n",
    "print(\"Closed Rating drop by \" + str(cFmean-cSmean))\n",
    "print(\"Open Rating drop by \" + str(oFmean-oSmean))\n"
   ]
  },
  {
   "cell_type": "code",
   "execution_count": 164,
   "metadata": {},
   "outputs": [
    {
     "data": {
      "text/html": [
       "<div>\n",
       "<style scoped>\n",
       "    .dataframe tbody tr th:only-of-type {\n",
       "        vertical-align: middle;\n",
       "    }\n",
       "\n",
       "    .dataframe tbody tr th {\n",
       "        vertical-align: top;\n",
       "    }\n",
       "\n",
       "    .dataframe thead th {\n",
       "        text-align: right;\n",
       "    }\n",
       "</style>\n",
       "<table border=\"1\" class=\"dataframe\">\n",
       "  <thead>\n",
       "    <tr style=\"text-align: right;\">\n",
       "      <th></th>\n",
       "      <th>name</th>\n",
       "      <th>stars</th>\n",
       "      <th>city</th>\n",
       "      <th>state</th>\n",
       "      <th>postal_code</th>\n",
       "      <th>review_count</th>\n",
       "      <th>is_open</th>\n",
       "      <th>lastReview</th>\n",
       "      <th>firstReview</th>\n",
       "      <th>lifespan</th>\n",
       "    </tr>\n",
       "  </thead>\n",
       "  <tbody>\n",
       "    <tr>\n",
       "      <th>--6MefnULPED_I942VcFNA</th>\n",
       "      <td>\"John's Chinese BBQ Restaurant\"</td>\n",
       "      <td>3.0</td>\n",
       "      <td>Richmond Hill</td>\n",
       "      <td>ON</td>\n",
       "      <td>L4B 3P7</td>\n",
       "      <td>37</td>\n",
       "      <td>1</td>\n",
       "      <td>2017-12-04</td>\n",
       "      <td>2008-08-07</td>\n",
       "      <td>3406</td>\n",
       "    </tr>\n",
       "    <tr>\n",
       "      <th>--7zmmkVg-IMGaXbuVd0SQ</th>\n",
       "      <td>\"Primal Brewery\"</td>\n",
       "      <td>4.0</td>\n",
       "      <td>Huntersville</td>\n",
       "      <td>NC</td>\n",
       "      <td>28078</td>\n",
       "      <td>47</td>\n",
       "      <td>1</td>\n",
       "      <td>2017-11-12</td>\n",
       "      <td>2014-12-30</td>\n",
       "      <td>1048</td>\n",
       "    </tr>\n",
       "    <tr>\n",
       "      <th>--8LPVSo5i0Oo61X01sV9A</th>\n",
       "      <td>\"Valley Bone and Joint Specialists\"</td>\n",
       "      <td>4.5</td>\n",
       "      <td>Gilbert</td>\n",
       "      <td>AZ</td>\n",
       "      <td>85234</td>\n",
       "      <td>3</td>\n",
       "      <td>1</td>\n",
       "      <td>2017-06-28</td>\n",
       "      <td>2014-05-15</td>\n",
       "      <td>1140</td>\n",
       "    </tr>\n",
       "    <tr>\n",
       "      <th>--9QQLMTbFzLJ_oT-ON3Xw</th>\n",
       "      <td>\"Great Clips\"</td>\n",
       "      <td>3.5</td>\n",
       "      <td>Tempe</td>\n",
       "      <td>AZ</td>\n",
       "      <td>85283</td>\n",
       "      <td>11</td>\n",
       "      <td>1</td>\n",
       "      <td>2017-05-02</td>\n",
       "      <td>2013-05-15</td>\n",
       "      <td>1448</td>\n",
       "    </tr>\n",
       "    <tr>\n",
       "      <th>--9e1ONYQuAa-CB_Rrw7Tw</th>\n",
       "      <td>\"Delmonico Steakhouse\"</td>\n",
       "      <td>4.0</td>\n",
       "      <td>Las Vegas</td>\n",
       "      <td>NV</td>\n",
       "      <td>89109</td>\n",
       "      <td>1451</td>\n",
       "      <td>1</td>\n",
       "      <td>2017-12-11</td>\n",
       "      <td>2005-04-27</td>\n",
       "      <td>4611</td>\n",
       "    </tr>\n",
       "  </tbody>\n",
       "</table>\n",
       "</div>"
      ],
      "text/plain": [
       "                                                       name  stars  \\\n",
       "--6MefnULPED_I942VcFNA      \"John's Chinese BBQ Restaurant\"    3.0   \n",
       "--7zmmkVg-IMGaXbuVd0SQ                     \"Primal Brewery\"    4.0   \n",
       "--8LPVSo5i0Oo61X01sV9A  \"Valley Bone and Joint Specialists\"    4.5   \n",
       "--9QQLMTbFzLJ_oT-ON3Xw                        \"Great Clips\"    3.5   \n",
       "--9e1ONYQuAa-CB_Rrw7Tw               \"Delmonico Steakhouse\"    4.0   \n",
       "\n",
       "                                 city state postal_code  review_count  \\\n",
       "--6MefnULPED_I942VcFNA  Richmond Hill    ON     L4B 3P7            37   \n",
       "--7zmmkVg-IMGaXbuVd0SQ   Huntersville    NC       28078            47   \n",
       "--8LPVSo5i0Oo61X01sV9A        Gilbert    AZ       85234             3   \n",
       "--9QQLMTbFzLJ_oT-ON3Xw          Tempe    AZ       85283            11   \n",
       "--9e1ONYQuAa-CB_Rrw7Tw      Las Vegas    NV       89109          1451   \n",
       "\n",
       "                        is_open lastReview firstReview  lifespan  \n",
       "--6MefnULPED_I942VcFNA        1 2017-12-04  2008-08-07      3406  \n",
       "--7zmmkVg-IMGaXbuVd0SQ        1 2017-11-12  2014-12-30      1048  \n",
       "--8LPVSo5i0Oo61X01sV9A        1 2017-06-28  2014-05-15      1140  \n",
       "--9QQLMTbFzLJ_oT-ON3Xw        1 2017-05-02  2013-05-15      1448  \n",
       "--9e1ONYQuAa-CB_Rrw7Tw        1 2017-12-11  2005-04-27      4611  "
      ]
     },
     "execution_count": 164,
     "metadata": {},
     "output_type": "execute_result"
    }
   ],
   "source": [
    "revInfo.head()"
   ]
  }
 ],
 "metadata": {
  "kernelspec": {
   "display_name": "Python 3",
   "language": "python",
   "name": "python3"
  },
  "language_info": {
   "codemirror_mode": {
    "name": "ipython",
    "version": 3
   },
   "file_extension": ".py",
   "mimetype": "text/x-python",
   "name": "python",
   "nbconvert_exporter": "python",
   "pygments_lexer": "ipython3",
   "version": "3.6.4"
  }
 },
 "nbformat": 4,
 "nbformat_minor": 2
}
