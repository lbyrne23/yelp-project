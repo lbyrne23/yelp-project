{
 "cells": [
  {
   "cell_type": "markdown",
   "metadata": {},
   "source": [
    "# RQ3 Prep: Extracting Zip Code Data\n",
    "## Part 1: Cleaning the KML file\n",
    "\n",
    "In order to draw lines on Basemap to represent each Zip Code, we need information about the exact coordinates of where these boundaries lie on a US map. The only Zip Code information that could be found online was a KML file from the US Census Bureau.\n",
    "\n",
    "This file has over 5 million lines, most of which is irrelevant to what is needed for our project.\n",
    "\n",
    "This notebook extracts each relevant tag; the zip code, and all of the coordiantes detailing its boundary. As this notebook takes 20 minutes+ to run, the results are saved to a text file for easy access later."
   ]
  },
  {
   "cell_type": "code",
   "execution_count": 1,
   "metadata": {},
   "outputs": [],
   "source": [
    "import os \n",
    "import sys\n",
    "\n",
    "module_path = os.path.abspath(os.path.join('../../data/..'))\n",
    "if module_path not in sys.path:\n",
    "    sys.path.append(module_path)"
   ]
  },
  {
   "cell_type": "markdown",
   "metadata": {},
   "source": [
    "We will use BeautifulSoup to find all the tags we need. The original kml file was renamed and changed to an xml file so BeautifulSoup could interpret it. All the information inside has been preserved."
   ]
  },
  {
   "cell_type": "code",
   "execution_count": 2,
   "metadata": {},
   "outputs": [],
   "source": [
    "import bs4 # import BeautifulSoup 4\n",
    "\n",
    "#open full kml file\n",
    "f = open(\"../../data/raw/fullInfo.xml\")\n",
    "html = f.read()\n",
    "f.close()\n",
    "\n",
    "soup = bs4.BeautifulSoup(html, 'lxml-xml') # create text for bs to evaluate"
   ]
  },
  {
   "cell_type": "markdown",
   "metadata": {},
   "source": [
    "This KML file contains 33,144 \"Placemark\" tags, which represent an individual postcode.\n",
    "\n",
    "We are interested in two parts:\n",
    "- The 'name' tag: In the example below we can see '00601' inside, which is a postcode.\n",
    "- The 'coordinates' tag: This file contains a comma-seperated coordinates which each represent a point on a map. When each of these are connected by a  line to the next in the list, it forms a shape - the postcode."
   ]
  },
  {
   "cell_type": "code",
   "execution_count": null,
   "metadata": {
    "scrolled": false
   },
   "outputs": [
    {
     "data": {
      "text/plain": [
       "<Placemark id=\"cb_2016_us_zcta510_500k.kml\">\n",
       "<name>&lt;at&gt;&lt;openparen&gt;00601&lt;closeparen&gt;</name>\n",
       "<visibility>1</visibility>\n",
       "<description>&lt;center&gt;&lt;table&gt;&lt;tr&gt;&lt;th colspan='2' align='center'&gt;&lt;em&gt;Attributes&lt;/em&gt;&lt;/th&gt;&lt;/tr&gt;&lt;tr bgcolor=\"#E3E3F3\"&gt;\n",
       "&lt;th&gt;ZCTA5CE10&lt;/th&gt;\n",
       "&lt;td&gt;00601&lt;/td&gt;\n",
       "&lt;/tr&gt;&lt;tr bgcolor=\"\"&gt;\n",
       "&lt;th&gt;AFFGEOID10&lt;/th&gt;\n",
       "&lt;td&gt;8600000US00601&lt;/td&gt;\n",
       "&lt;/tr&gt;&lt;tr bgcolor=\"#E3E3F3\"&gt;\n",
       "&lt;th&gt;GEOID10&lt;/th&gt;\n",
       "&lt;td&gt;00601&lt;/td&gt;\n",
       "&lt;/tr&gt;&lt;tr bgcolor=\"\"&gt;\n",
       "&lt;th&gt;ALAND10&lt;/th&gt;\n",
       "&lt;td&gt;166659884&lt;/td&gt;\n",
       "&lt;/tr&gt;&lt;tr bgcolor=\"#E3E3F3\"&gt;\n",
       "&lt;th&gt;AWATER10&lt;/th&gt;\n",
       "&lt;td&gt;799293&lt;/td&gt;\n",
       "&lt;/tr&gt;&lt;/table&gt;&lt;/center&gt;</description>\n",
       "<styleUrl>#KMLStyler</styleUrl>\n",
       "<ExtendedData>\n",
       "<SchemaData schemaUrl=\"#kml_schema_ft_cb_2016_us_zcta510_500k\">\n",
       "<SimpleData name=\"ZCTA5CE10\">00601</SimpleData>\n",
       "<SimpleData name=\"AFFGEOID10\">8600000US00601</SimpleData>\n",
       "<SimpleData name=\"GEOID10\">00601</SimpleData>\n",
       "<SimpleData name=\"ALAND10\">166659884</SimpleData>\n",
       "<SimpleData name=\"AWATER10\">799293</SimpleData>\n",
       "</SchemaData>\n",
       "</ExtendedData>\n",
       "<Polygon>\n",
       "<extrude>0</extrude>\n",
       "<tessellate>1</tessellate>\n",
       "<altitudeMode>clampToGround</altitudeMode>\n",
       "<outerBoundaryIs>\n",
       "<LinearRing>\n",
       "<coordinates>-66.835256,18.209981,0.0 -66.836246,18.209447,0.0 -66.834953,18.20747,0.0 -66.834093,18.202797,0.0 -66.834519,18.201748,0.0 -66.832897,18.19988,0.0 -66.829239,18.200482,0.0 -66.827717,18.197794,0.0 -66.82682,18.197495,0.0 -66.82598,18.194577,0.0 -66.823882,18.194618,0.0 -66.823623,18.193191,0.0 -66.821923,18.193613,0.0 -66.820358,18.192562,0.0 -66.819402,18.193067,0.0 -66.814826,18.191727,0.0 -66.813027,18.192851,0.0 -66.811136,18.191126,0.0 -66.810469,18.190259,0.0 -66.810976,18.187834,0.0 -66.810445,18.185822,0.0 -66.81345,18.18537,0.0 -66.816204,18.186562,0.0 -66.818473,18.185215,0.0 -66.819515,18.180022,0.0 -66.820988,18.178957,0.0 -66.823297,18.178849,0.0 -66.822677,18.177975,0.0 -66.823876,18.177617,0.0 -66.82561,18.176039,0.0 -66.826407,18.17622,0.0 -66.824144,18.17448,0.0 -66.823752,18.173536,0.0 -66.820496,18.173968,0.0 -66.819374,18.17305,0.0 -66.817728,18.173721,0.0 -66.818468,18.175074,0.0 -66.813554,18.176798,0.0 -66.812438,18.176062,0.0 -66.813878,18.174708,0.0 -66.812903,18.173516,0.0 -66.813578,18.170646,0.0 -66.813592,18.168419,0.0 -66.814186,18.163855,0.0 -66.814589,18.162988,0.0 -66.815922,18.163707,0.0 -66.815931,18.165733,0.0 -66.817721,18.167696,0.0 -66.819541,18.168969,0.0 -66.824395,18.169996,0.0 -66.825764,18.171904,0.0 -66.8244,18.173365,0.0 -66.824926,18.173924,0.0 -66.826622,18.172207,0.0 -66.827327,18.171242,0.0 -66.826359,18.169207,0.0 -66.823959,18.167529,0.0 -66.824314,18.165589,0.0 -66.825856,18.162495,0.0 -66.826278,18.160216,0.0 -66.824821,18.159348,0.0 -66.82434,18.157996,0.0 -66.822143,18.156353,0.0 -66.821028,18.152818,0.0 -66.81809,18.150509,0.0 -66.817006,18.150581,0.0 -66.813219,18.149667,0.0 -66.812042,18.149827,0.0 -66.808436,18.149049,0.0 -66.806732,18.148314,0.0 -66.804058,18.148056,0.0 -66.803408,18.145368,0.0 -66.803365,18.140384,0.0 -66.802332,18.140068,0.0 -66.800927,18.138282,0.0 -66.79987,18.138041,0.0 -66.797557,18.133445,0.0 -66.796604,18.133046,0.0 -66.79467,18.13417,0.0 -66.793637,18.13338,0.0 -66.792002,18.134798,0.0 -66.788544,18.134404,0.0 -66.786711,18.136803,0.0 -66.783992,18.138622,0.0 -66.782321,18.136463,0.0 -66.778341,18.135076,0.0 -66.777694,18.134208,0.0 -66.775694,18.133788,0.0 -66.774912,18.132884,0.0 -66.773769,18.133899,0.0 -66.771375,18.133961,0.0 -66.769049,18.134983,0.0 -66.766247,18.134721,0.0 -66.765049,18.132789,0.0 -66.762818,18.131874,0.0 -66.761027,18.129709,0.0 -66.759058,18.128962,0.0 -66.758779,18.12743,0.0 -66.756755,18.125215,0.0 -66.757148,18.123931,0.0 -66.756367,18.123015,0.0 -66.754554,18.119188,0.0 -66.752928,18.117087,0.0 -66.749618,18.113664,0.0 -66.747747,18.114394,0.0 -66.746028,18.116021,0.0 -66.744215,18.115868,0.0 -66.743382,18.11674,0.0 -66.739502,18.117591,0.0 -66.738166,18.115805,0.0 -66.736273,18.11519,0.0 -66.731774,18.112008,0.0 -66.727344,18.11304,0.0 -66.726703,18.115127,0.0 -66.72508,18.117143,0.0 -66.725804,18.119187,0.0 -66.724866,18.121746,0.0 -66.722238,18.123865,0.0 -66.72138,18.125493,0.0 -66.719939,18.126169,0.0 -66.717671,18.128343,0.0 -66.716646,18.131529,0.0 -66.713595,18.132105,0.0 -66.712442,18.129653,0.0 -66.710181,18.128,0.0 -66.708935,18.129154,0.0 -66.704887,18.129695,0.0 -66.702862,18.12875,0.0 -66.700298,18.130928,0.0 -66.698249,18.130601,0.0 -66.697154,18.132234,0.0 -66.695947,18.134846,0.0 -66.691137,18.142759,0.0 -66.690101,18.144098,0.0 -66.687275,18.145261,0.0 -66.686155,18.14385,0.0 -66.68279,18.142767,0.0 -66.687803,18.141892,0.0 -66.688841,18.140677,0.0 -66.689369,18.140512,0.0 -66.689856,18.139483,0.0 -66.68946,18.139265,0.0 -66.689488,18.139576,0.0 -66.688204,18.140174,0.0 -66.684538,18.139856,0.0 -66.683319,18.138669,0.0 -66.680099,18.137435,0.0 -66.676917,18.137421,0.0 -66.675675,18.138493,0.0 -66.678949,18.139653,0.0 -66.679629,18.140716,0.0 -66.677542,18.141704,0.0 -66.679518,18.142436,0.0 -66.678596,18.145078,0.0 -66.678764,18.14963,0.0 -66.679714,18.151947,0.0 -66.679773,18.154729,0.0 -66.677842,18.155472,0.0 -66.675974,18.154686,0.0 -66.676689,18.153258,0.0 -66.67699,18.150955,0.0 -66.675622,18.150743,0.0 -66.671945,18.15323,0.0 -66.670494,18.152831,0.0 -66.66423,18.153584,0.0 -66.662885,18.155415,0.0 -66.660323,18.156855,0.0 -66.659293,18.156874,0.0 -66.659907,18.15772,0.0 -66.660704,18.161516,0.0 -66.662966,18.162555,0.0 -66.663563,18.16483,0.0 -66.664916,18.166931,0.0 -66.662564,18.168261,0.0 -66.663,18.169275,0.0 -66.66212,18.170283,0.0 -66.663268,18.170974,0.0 -66.665242,18.17062,0.0 -66.665673,18.171412,0.0 -66.667272,18.170113,0.0 -66.667072,18.170882,0.0 -66.664811,18.172616,0.0 -66.664732,18.173841,0.0 -66.664697,18.175465,0.0 -66.666782,18.176332,0.0 -66.667662,18.176016,0.0 -66.670441,18.179637,0.0 -66.671864,18.1803,0.0 -66.672963,18.181949,0.0 -66.676062,18.182921,0.0 -66.67851,18.185337,0.0 -66.681324,18.186922,0.0 -66.681943,18.189982,0.0 -66.684721,18.194102,0.0 -66.68507,18.197073,0.0 -66.682663,18.198486,0.0 -66.681303,18.20045,0.0 -66.68132,18.204165,0.0 -66.683713,18.206749,0.0 -66.687383,18.210019,0.0 -66.691841,18.211802,0.0 -66.693194,18.216589,0.0 -66.695325,18.215694,0.0 -66.697913,18.215371,0.0 -66.700079,18.215995,0.0 -66.701102,18.217122,0.0 -66.707725,18.216701,0.0 -66.709892,18.218406,0.0 -66.71111,18.218201,0.0 -66.713559,18.219899,0.0 -66.715734,18.220673,0.0 -66.718956,18.220043,0.0 -66.723108,18.220436,0.0 -66.724109,18.220069,0.0 -66.725813,18.21885,0.0 -66.725786,18.217572,0.0 -66.725554,18.215189,0.0 -66.725161,18.214495,0.0 -66.723454,18.213383,0.0 -66.723527,18.211914,0.0 -66.724615,18.211445,0.0 -66.724914,18.212808,0.0 -66.726669,18.216015,0.0 -66.726696,18.216792,0.0 -66.727158,18.219973,0.0 -66.725673,18.221805,0.0 -66.72675,18.223402,0.0 -66.729926,18.22526,0.0 -66.732181,18.225759,0.0 -66.735977,18.224199,0.0 -66.739358,18.220517,0.0 -66.743206,18.22249,0.0 -66.74575,18.221937,0.0 -66.748107,18.222169,0.0 -66.751371,18.223839,0.0 -66.753639,18.223878,0.0 -66.755807,18.223289,0.0 -66.756518,18.225178,0.0 -66.758606,18.225107,0.0 -66.760626,18.225895,0.0 -66.760261,18.227762,0.0 -66.760827,18.229525,0.0 -66.762729,18.230947,0.0 -66.761591,18.231392,0.0 -66.76174,18.232504,0.0 -66.762993,18.232994,0.0 -66.76408,18.234512,0.0 -66.764697,18.237676,0.0 -66.767534,18.239186,0.0 -66.769554,18.24159,0.0 -66.773759,18.241278,0.0 -66.774341,18.242289,0.0 -66.77596,18.242949,0.0 -66.777732,18.246282,0.0 -66.777346,18.247212,0.0 -66.781701,18.250248,0.0 -66.782514,18.250325,0.0 -66.785038,18.248567,0.0 -66.786697,18.248449,0.0 -66.78899,18.24977,0.0 -66.794506,18.249871,0.0 -66.794319,18.246838,0.0 -66.795294,18.245847,0.0 -66.794805,18.243043,0.0 -66.795957,18.242516,0.0 -66.7966,18.243631,0.0 -66.798839,18.243714,0.0 -66.800355,18.242347,0.0 -66.800591,18.240144,0.0 -66.799223,18.240176,0.0 -66.800323,18.237776,0.0 -66.799531,18.237171,0.0 -66.800169,18.235588,0.0 -66.798759,18.230026,0.0 -66.800469,18.227842,0.0 -66.803512,18.227425,0.0 -66.806867,18.228414,0.0 -66.808108,18.228211,0.0 -66.809741,18.229475,0.0 -66.811088,18.228817,0.0 -66.813167,18.229279,0.0 -66.814672,18.230319,0.0 -66.817271,18.230336,0.0 -66.820313,18.231032,0.0 -66.823104,18.232325,0.0 -66.825683,18.232624,0.0 -66.830437,18.231179,0.0 -66.831432,18.229467,0.0 -66.832696,18.229099,0.0 -66.832002,18.225916,0.0 -66.83058,18.2251,0.0 -66.829385,18.223154,0.0 -66.829154,18.22097,0.0 -66.829792,18.219989,0.0 -66.830634,18.221005,0.0 -66.832623,18.221439,0.0 -66.834092,18.220317,0.0 -66.834978,18.218186,0.0 -66.83376,18.216524,0.0 -66.834057,18.214814,0.0 -66.832871,18.214859,0.0 -66.835256,18.209981,0.0</coordinates>\n",
       "</LinearRing>\n",
       "</outerBoundaryIs>\n",
       "</Polygon>\n",
       "</Placemark>"
      ]
     },
     "execution_count": 3,
     "metadata": {},
     "output_type": "execute_result"
    }
   ],
   "source": [
    "soup.find('Placemark')"
   ]
  },
  {
   "cell_type": "markdown",
   "metadata": {},
   "source": [
    "The code below uses BeautifulSoup to find each Placemark tag, extract the name, then extract the coordinates.\n",
    "\n",
    "Sometimes a postcode will have multiple coordinate lists arranged differently in the Placemark file. This happens if a postcode has multiple 'islands'. The code below accounts for this. "
   ]
  },
  {
   "cell_type": "code",
   "execution_count": null,
   "metadata": {},
   "outputs": [],
   "source": [
    "bigList = \"\" # All relevant tags will be stored here in this master list \n",
    "\n",
    "allSections = soup.find_all('Placemark') #Find each individual 'Placemark' tag\n",
    "\n",
    "for section in allSections:\n",
    "    postcode = section.find('name') #The postcode is a string inside a <name> tag\n",
    "    bigList += \"%s\\n\" % postcode.contents #extract the string and add to list\n",
    "    \n",
    "    if section.findChildren('MultiGeometry'): # if the postcode contains multiple 'islands'\n",
    "        multi = section.find('MultiGeometry') #look inside\n",
    "        poly = multi.find('Polygon') #find <polyglon>\n",
    "        for part in poly:\n",
    "            outer = poly.find('outerBoundaryIs') #find <outerBoundaryIs> inside <Polyglon>\n",
    "            lin = outer.find('LinearRing') #find <LinearRing> inside <outerBoundaryIs>\n",
    "            coords = lin.find('coordinates') #find <coordinates> inside the <LinearRing>\n",
    "            bigList += \"%s\\n\" % coords.contents #get the string of coordinates inside and add to list\n",
    "    else: #if section does not have multiple islands\n",
    "        coord = section.find('coordinates') #find the coordinates lines\n",
    "        bigList += \"%s\\n\" % coord.contents #add to list"
   ]
  },
  {
   "cell_type": "markdown",
   "metadata": {},
   "source": [
    "Save the relevant tags to a text file; this prevents us having to traverse the file again."
   ]
  },
  {
   "cell_type": "code",
   "execution_count": null,
   "metadata": {},
   "outputs": [],
   "source": [
    "text_file = open(\"../../data/prep/coordsXML.txt\", \"w+\")\n",
    "text_file.write(bigList)\n",
    "text_file.close()"
   ]
  }
 ],
 "metadata": {
  "kernelspec": {
   "display_name": "Python 3",
   "language": "python",
   "name": "python3"
  },
  "language_info": {
   "codemirror_mode": {
    "name": "ipython",
    "version": 3
   },
   "file_extension": ".py",
   "mimetype": "text/x-python",
   "name": "python",
   "nbconvert_exporter": "python",
   "pygments_lexer": "ipython3",
   "version": "3.6.4"
  }
 },
 "nbformat": 4,
 "nbformat_minor": 2
}
