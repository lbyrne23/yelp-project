{
 "cells": [
  {
   "cell_type": "markdown",
   "metadata": {},
   "source": [
    "# Making an Activity DataFrame\n",
    "\n",
    "business_id, stars, review_count, is_open, postal_code, checkins, tipcount"
   ]
  },
  {
   "cell_type": "markdown",
   "metadata": {},
   "source": [
    "### check = a list of businesses and their check in count"
   ]
  },
  {
   "cell_type": "code",
   "execution_count": 250,
   "metadata": {
    "scrolled": false
   },
   "outputs": [],
   "source": [
    "import pandas as pd\n",
    "import matplotlib\n",
    "import matplotlib.pyplot as plt\n",
    "\n",
    "#Full Check in data, seperate hours\n",
    "df = pd.read_csv(\"../../data/raw/yelp_checkin.csv\") \n",
    "\n",
    "#group into businesses and add to make total number of checkins for each business\n",
    "check = df.groupby(\"business_id\")['checkins'].sum().sort_values(ascending=False)"
   ]
  },
  {
   "cell_type": "markdown",
   "metadata": {},
   "source": [
    "### Save this to a CSV file (business id, check ins)"
   ]
  },
  {
   "cell_type": "code",
   "execution_count": 236,
   "metadata": {},
   "outputs": [],
   "source": [
    "check.to_csv(\"checkins.csv\", index='business_id')\n",
    "#csv file: (business id, total checkins)"
   ]
  },
  {
   "cell_type": "markdown",
   "metadata": {},
   "source": [
    " ### Adding check in totals\n",
    " - Read in CSV file\n",
    " - Read in filtered business file (only useful info)\n",
    " - Find the businesses that have no check ins\n",
    " - Set their check in total to 0\n",
    " - Combine the business info and check in totals to one dataframe"
   ]
  },
  {
   "cell_type": "code",
   "execution_count": 238,
   "metadata": {},
   "outputs": [
    {
     "data": {
      "text/html": [
       "<div>\n",
       "<style scoped>\n",
       "    .dataframe tbody tr th:only-of-type {\n",
       "        vertical-align: middle;\n",
       "    }\n",
       "\n",
       "    .dataframe tbody tr th {\n",
       "        vertical-align: top;\n",
       "    }\n",
       "\n",
       "    .dataframe thead th {\n",
       "        text-align: right;\n",
       "    }\n",
       "</style>\n",
       "<table border=\"1\" class=\"dataframe\">\n",
       "  <thead>\n",
       "    <tr style=\"text-align: right;\">\n",
       "      <th></th>\n",
       "      <th>business_id</th>\n",
       "      <th>stars</th>\n",
       "      <th>review_count</th>\n",
       "      <th>is_open</th>\n",
       "      <th>postal_code</th>\n",
       "      <th>checkins</th>\n",
       "    </tr>\n",
       "  </thead>\n",
       "  <tbody>\n",
       "    <tr>\n",
       "      <th>0</th>\n",
       "      <td>FYWN1wneV18bWNgQjJ2GNg</td>\n",
       "      <td>4.0</td>\n",
       "      <td>22</td>\n",
       "      <td>1</td>\n",
       "      <td>85044</td>\n",
       "      <td>112590</td>\n",
       "    </tr>\n",
       "    <tr>\n",
       "      <th>1</th>\n",
       "      <td>He-G7vWjzVUysIKrfNbPUQ</td>\n",
       "      <td>3.0</td>\n",
       "      <td>11</td>\n",
       "      <td>1</td>\n",
       "      <td>15317</td>\n",
       "      <td>49934</td>\n",
       "    </tr>\n",
       "    <tr>\n",
       "      <th>2</th>\n",
       "      <td>KQPW8lFf1y5BT2MxiSZ3QA</td>\n",
       "      <td>1.5</td>\n",
       "      <td>18</td>\n",
       "      <td>1</td>\n",
       "      <td>85017</td>\n",
       "      <td>43995</td>\n",
       "    </tr>\n",
       "    <tr>\n",
       "      <th>3</th>\n",
       "      <td>8DShNS-LuFqpEWIp0HxijA</td>\n",
       "      <td>3.0</td>\n",
       "      <td>9</td>\n",
       "      <td>0</td>\n",
       "      <td>85282</td>\n",
       "      <td>32603</td>\n",
       "    </tr>\n",
       "    <tr>\n",
       "      <th>4</th>\n",
       "      <td>PfOCPjBrlQAnz__NXj9h_w</td>\n",
       "      <td>3.5</td>\n",
       "      <td>116</td>\n",
       "      <td>1</td>\n",
       "      <td>44221</td>\n",
       "      <td>32393</td>\n",
       "    </tr>\n",
       "  </tbody>\n",
       "</table>\n",
       "</div>"
      ],
      "text/plain": [
       "              business_id  stars  review_count  is_open postal_code checkins\n",
       "0  FYWN1wneV18bWNgQjJ2GNg    4.0            22        1       85044   112590\n",
       "1  He-G7vWjzVUysIKrfNbPUQ    3.0            11        1       15317    49934\n",
       "2  KQPW8lFf1y5BT2MxiSZ3QA    1.5            18        1       85017    43995\n",
       "3  8DShNS-LuFqpEWIp0HxijA    3.0             9        0       85282    32603\n",
       "4  PfOCPjBrlQAnz__NXj9h_w    3.5           116        1       44221    32393"
      ]
     },
     "execution_count": 238,
     "metadata": {},
     "output_type": "execute_result"
    }
   ],
   "source": [
    "checkins = pd.read_csv(\"checkins.csv\") #read in csv file\n",
    "checkins.columns = ['business_id', 'checkins'] #assign headings\n",
    "checkins.set_index('business_id') #set index to business_id\n",
    "\n",
    "biz = pd.read_csv(\"../../data/raw/yelp_business.csv\") #read in FULL business file\n",
    "rating = biz.filter(['business_id', 'stars', 'review_count', 'is_open', 'postal_code']) #filter relevant columns\n",
    "rating.set_index('business_id') #set index to business_id\n",
    "\n",
    "#These two lines make a dataframe of all the business id's that have NO check ins\n",
    "common = rating.merge(checkins,on='business_id')\n",
    "notin = rating[(~rating.business_id.isin(common.business_id))].copy()\n",
    "\n",
    "#making a list of 0's to combine with id's above\n",
    "notinCounts = []\n",
    "for i in range(len(notin)):\n",
    "    notinCounts.append(\"0\")\n",
    "    \n",
    "#Join businesses with no check ins with a column of 0's\n",
    "notin['checkins'] = pd.Series(notinCounts, index=notin.index)\n",
    "\n",
    "#merge ratings and checkins to create table of all info with checkins included\n",
    "activity1 = pd.merge(rating, checkins, on='business_id',left_index=True, right_index=True)\n",
    "activity1.set_index('business_id')\n",
    "\n",
    "#Join the table with 0 checkins to the master table of info\n",
    "activity = pd.concat([activity1, notin])\n",
    "\n",
    "activity.head()"
   ]
  },
  {
   "cell_type": "markdown",
   "metadata": {},
   "source": [
    " ### Adding tip count totals\n",
    " - Read in CSV file\n",
    " - Read in filtered business file (only useful info)\n",
    " - Find the businesses that have no tips\n",
    " - Set their tip total to 0\n",
    " - Combine the business info and tip totals to one dataframe"
   ]
  },
  {
   "cell_type": "code",
   "execution_count": 239,
   "metadata": {},
   "outputs": [],
   "source": [
    "tips = pd.read_csv(\"../../data/raw/yelp_tip.csv\")"
   ]
  },
  {
   "cell_type": "code",
   "execution_count": 240,
   "metadata": {},
   "outputs": [],
   "source": [
    "tipCount = tips.groupby(\"business_id\").size().sort_values(ascending=False)\n",
    "tipCount.to_csv(\"tipcounts.csv\", index='business_id')"
   ]
  },
  {
   "cell_type": "markdown",
   "metadata": {},
   "source": [
    "This cell uses the same method as above to add tips to the dataframe"
   ]
  },
  {
   "cell_type": "code",
   "execution_count": 251,
   "metadata": {},
   "outputs": [
    {
     "data": {
      "text/html": [
       "<div>\n",
       "<style scoped>\n",
       "    .dataframe tbody tr th:only-of-type {\n",
       "        vertical-align: middle;\n",
       "    }\n",
       "\n",
       "    .dataframe tbody tr th {\n",
       "        vertical-align: top;\n",
       "    }\n",
       "\n",
       "    .dataframe thead th {\n",
       "        text-align: right;\n",
       "    }\n",
       "</style>\n",
       "<table border=\"1\" class=\"dataframe\">\n",
       "  <thead>\n",
       "    <tr style=\"text-align: right;\">\n",
       "      <th></th>\n",
       "      <th>business_id</th>\n",
       "      <th>stars</th>\n",
       "      <th>review_count</th>\n",
       "      <th>is_open</th>\n",
       "      <th>postal_code</th>\n",
       "      <th>checkins</th>\n",
       "      <th>tipcount</th>\n",
       "    </tr>\n",
       "  </thead>\n",
       "  <tbody>\n",
       "    <tr>\n",
       "      <th>0</th>\n",
       "      <td>FYWN1wneV18bWNgQjJ2GNg</td>\n",
       "      <td>4.0</td>\n",
       "      <td>22</td>\n",
       "      <td>1</td>\n",
       "      <td>85044</td>\n",
       "      <td>112590</td>\n",
       "      <td>2382</td>\n",
       "    </tr>\n",
       "    <tr>\n",
       "      <th>1</th>\n",
       "      <td>He-G7vWjzVUysIKrfNbPUQ</td>\n",
       "      <td>3.0</td>\n",
       "      <td>11</td>\n",
       "      <td>1</td>\n",
       "      <td>15317</td>\n",
       "      <td>49934</td>\n",
       "      <td>1474</td>\n",
       "    </tr>\n",
       "    <tr>\n",
       "      <th>2</th>\n",
       "      <td>KQPW8lFf1y5BT2MxiSZ3QA</td>\n",
       "      <td>1.5</td>\n",
       "      <td>18</td>\n",
       "      <td>1</td>\n",
       "      <td>85017</td>\n",
       "      <td>43995</td>\n",
       "      <td>1436</td>\n",
       "    </tr>\n",
       "    <tr>\n",
       "      <th>3</th>\n",
       "      <td>8DShNS-LuFqpEWIp0HxijA</td>\n",
       "      <td>3.0</td>\n",
       "      <td>9</td>\n",
       "      <td>0</td>\n",
       "      <td>85282</td>\n",
       "      <td>32603</td>\n",
       "      <td>1346</td>\n",
       "    </tr>\n",
       "    <tr>\n",
       "      <th>4</th>\n",
       "      <td>PfOCPjBrlQAnz__NXj9h_w</td>\n",
       "      <td>3.5</td>\n",
       "      <td>116</td>\n",
       "      <td>1</td>\n",
       "      <td>44221</td>\n",
       "      <td>32393</td>\n",
       "      <td>1287</td>\n",
       "    </tr>\n",
       "  </tbody>\n",
       "</table>\n",
       "</div>"
      ],
      "text/plain": [
       "              business_id  stars  review_count  is_open postal_code checkins  \\\n",
       "0  FYWN1wneV18bWNgQjJ2GNg    4.0            22        1       85044   112590   \n",
       "1  He-G7vWjzVUysIKrfNbPUQ    3.0            11        1       15317    49934   \n",
       "2  KQPW8lFf1y5BT2MxiSZ3QA    1.5            18        1       85017    43995   \n",
       "3  8DShNS-LuFqpEWIp0HxijA    3.0             9        0       85282    32603   \n",
       "4  PfOCPjBrlQAnz__NXj9h_w    3.5           116        1       44221    32393   \n",
       "\n",
       "  tipcount  \n",
       "0     2382  \n",
       "1     1474  \n",
       "2     1436  \n",
       "3     1346  \n",
       "4     1287  "
      ]
     },
     "execution_count": 251,
     "metadata": {},
     "output_type": "execute_result"
    }
   ],
   "source": [
    "tip = pd.read_csv(\"tipcounts.csv\") #read in csv file\n",
    "tip.columns = ['business_id', 'tipcount'] #assign headings\n",
    "tip.set_index('business_id') #set index to business_id\n",
    "\n",
    "activity.set_index('business_id') #set index to business_id\n",
    "#These two lines make a dataframe of all the business id's that have NO check ins\n",
    "hasTips = activity.merge(tip,on='business_id')\n",
    "noTips = activity[(~activity.business_id.isin(hasTips.business_id))].copy()\n",
    "\n",
    "#making a list of 0's to combine with id's above\n",
    "noTipCount = []\n",
    "for i in range(len(noTips)):\n",
    "    noTipCount.append(\"0\")\n",
    "    \n",
    "#Join businesses with no check ins with a column of 0's\n",
    "noTips['tipcount'] = pd.Series(noTipCount, index=noTips.index)\n",
    "\n",
    "# merge ratings and checkins to create table of all info with checkins included\n",
    "activity2 = pd.merge(activity, tip, on='business_id',left_index=True, right_index=True)\n",
    "activity2.set_index('business_id')\n",
    "\n",
    "#Join the table with 0 checkins to the master table of info\n",
    "activityTips = pd.concat([activity2, noTips])\n",
    "\n",
    "activityTips.head()"
   ]
  },
  {
   "cell_type": "code",
   "execution_count": 252,
   "metadata": {},
   "outputs": [
    {
     "data": {
      "text/html": [
       "<div>\n",
       "<style scoped>\n",
       "    .dataframe tbody tr th:only-of-type {\n",
       "        vertical-align: middle;\n",
       "    }\n",
       "\n",
       "    .dataframe tbody tr th {\n",
       "        vertical-align: top;\n",
       "    }\n",
       "\n",
       "    .dataframe thead th {\n",
       "        text-align: right;\n",
       "    }\n",
       "</style>\n",
       "<table border=\"1\" class=\"dataframe\">\n",
       "  <thead>\n",
       "    <tr style=\"text-align: right;\">\n",
       "      <th></th>\n",
       "      <th>business_id</th>\n",
       "      <th>stars</th>\n",
       "      <th>review_count</th>\n",
       "      <th>is_open</th>\n",
       "      <th>postal_code</th>\n",
       "      <th>checkins</th>\n",
       "      <th>tipcount</th>\n",
       "    </tr>\n",
       "  </thead>\n",
       "  <tbody>\n",
       "    <tr>\n",
       "      <th>174525</th>\n",
       "      <td>Fbn3idu4uKvWVx3jGWDpnw</td>\n",
       "      <td>5.0</td>\n",
       "      <td>3</td>\n",
       "      <td>1</td>\n",
       "      <td>85205</td>\n",
       "      <td>0</td>\n",
       "      <td>0</td>\n",
       "    </tr>\n",
       "    <tr>\n",
       "      <th>174528</th>\n",
       "      <td>PCj1wDpVyb6y_h0RulVaHg</td>\n",
       "      <td>4.5</td>\n",
       "      <td>11</td>\n",
       "      <td>1</td>\n",
       "      <td>85282</td>\n",
       "      <td>0</td>\n",
       "      <td>0</td>\n",
       "    </tr>\n",
       "    <tr>\n",
       "      <th>174533</th>\n",
       "      <td>6AGvafGH6q6x5yQnHIQwHQ</td>\n",
       "      <td>4.5</td>\n",
       "      <td>23</td>\n",
       "      <td>1</td>\n",
       "      <td>85225</td>\n",
       "      <td>0</td>\n",
       "      <td>0</td>\n",
       "    </tr>\n",
       "    <tr>\n",
       "      <th>174561</th>\n",
       "      <td>kLFm_kehXNZkUc1oa2-Eaw</td>\n",
       "      <td>3.0</td>\n",
       "      <td>4</td>\n",
       "      <td>1</td>\n",
       "      <td>M6K 1T5</td>\n",
       "      <td>0</td>\n",
       "      <td>0</td>\n",
       "    </tr>\n",
       "    <tr>\n",
       "      <th>174563</th>\n",
       "      <td>gRGalHVu6BcaUDIAGVW_xQ</td>\n",
       "      <td>5.0</td>\n",
       "      <td>3</td>\n",
       "      <td>1</td>\n",
       "      <td>44286</td>\n",
       "      <td>0</td>\n",
       "      <td>0</td>\n",
       "    </tr>\n",
       "  </tbody>\n",
       "</table>\n",
       "</div>"
      ],
      "text/plain": [
       "                   business_id  stars  review_count  is_open postal_code  \\\n",
       "174525  Fbn3idu4uKvWVx3jGWDpnw    5.0             3        1       85205   \n",
       "174528  PCj1wDpVyb6y_h0RulVaHg    4.5            11        1       85282   \n",
       "174533  6AGvafGH6q6x5yQnHIQwHQ    4.5            23        1       85225   \n",
       "174561  kLFm_kehXNZkUc1oa2-Eaw    3.0             4        1     M6K 1T5   \n",
       "174563  gRGalHVu6BcaUDIAGVW_xQ    5.0             3        1       44286   \n",
       "\n",
       "       checkins tipcount  \n",
       "174525        0        0  \n",
       "174528        0        0  \n",
       "174533        0        0  \n",
       "174561        0        0  \n",
       "174563        0        0  "
      ]
     },
     "execution_count": 252,
     "metadata": {},
     "output_type": "execute_result"
    }
   ],
   "source": [
    "activityTips.tail()"
   ]
  },
  {
   "cell_type": "markdown",
   "metadata": {},
   "source": [
    "### Export to CSV for use in other notebooks"
   ]
  },
  {
   "cell_type": "code",
   "execution_count": 247,
   "metadata": {},
   "outputs": [],
   "source": [
    "activityTips.to_csv(\"activity.csv\", index='business_id')"
   ]
  }
 ],
 "metadata": {
  "kernelspec": {
   "display_name": "Python 3",
   "language": "python",
   "name": "python3"
  },
  "language_info": {
   "codemirror_mode": {
    "name": "ipython",
    "version": 3
   },
   "file_extension": ".py",
   "mimetype": "text/x-python",
   "name": "python",
   "nbconvert_exporter": "python",
   "pygments_lexer": "ipython3",
   "version": "3.6.4"
  }
 },
 "nbformat": 4,
 "nbformat_minor": 2
}
