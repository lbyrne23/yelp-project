{
 "cells": [
  {
   "cell_type": "markdown",
   "metadata": {},
   "source": [
    "# RQ3 Prep: Extracting Zip Code Data\n",
    "## Part 2: Making a Dictionary\n",
    "\n",
    "In the last part we took all of the relevant coordinated from the KML file. In this file:\n",
    "\n",
    "- The text is formatted with string.replace() to look like a dictionary\n",
    "- The coordinates are formatted correctly\n",
    "- We sort it to only take the 830 postal codes in our dataset, instead of all 33,1400\n",
    "- The resulting dictionary is written to a text file to be accessed in other Jupyter Notebooks"
   ]
  },
  {
   "cell_type": "code",
   "execution_count": 13,
   "metadata": {},
   "outputs": [],
   "source": [
    "import os \n",
    "import sys\n",
    "\n",
    "module_path = os.path.abspath(os.path.join('../../data/..'))\n",
    "if module_path not in sys.path:\n",
    "    sys.path.append(module_path)"
   ]
  },
  {
   "cell_type": "code",
   "execution_count": 14,
   "metadata": {},
   "outputs": [],
   "source": [
    "#import the tags created in part 1 of the prep\n",
    "file = open(\"../../data/prep/coordsXML.txt\", \"r\")\n",
    "lines = file.readlines()\n",
    "file.close()"
   ]
  },
  {
   "cell_type": "markdown",
   "metadata": {},
   "source": [
    "This cell cleans the tags to make a list. For example, \n",
    "\n",
    "```\n",
    "'['<at><openparen>00601<closeparen>']\n",
    "```\n",
    "becomes\n",
    "```\n",
    "\"00601\":\n",
    "```\n",
    "\n",
    "and for the coordinates, \n",
    "```\n",
    "<coordinates>-66.835256,18.209981,0.0 ..... -66.836246,18.209447,0.0</coordinates>\n",
    "```\n",
    "becomes\n",
    "```\n",
    "\"[[-66.835256,18.209981],....,[-66.836246,18.209447]]\",\n",
    "```"
   ]
  },
  {
   "cell_type": "code",
   "execution_count": 15,
   "metadata": {},
   "outputs": [],
   "source": [
    "cleanedText =[]\n",
    "\n",
    "for line in lines:\n",
    "    newline = line.replace(\"['<at><openparen>\", '\"')\n",
    "    newline = newline.replace(\"<closeparen>\\']\\n\", '\":')\n",
    "    newline = newline.replace(\"['\", '\"[[')\n",
    "    newline = newline.replace(\",0.0 \", '],[')\n",
    "    newline = newline.replace(\",0.0\\']\\n\", ']]\"')\n",
    "    cleanedText.append(newline)"
   ]
  },
  {
   "cell_type": "markdown",
   "metadata": {},
   "source": [
    "The cell above has the postcode and coordinates on different lines. The cell below cleans it so that every pair is combined to give a line like\n",
    "```\n",
    "\"00601\":\"[[-66.835256,18.209981],....,[-66.836246,18.209447]]\",\n",
    "```"
   ]
  },
  {
   "cell_type": "code",
   "execution_count": 16,
   "metadata": {},
   "outputs": [],
   "source": [
    "codeCoords = []\n",
    "\n",
    "i = 0\n",
    "while i < len(cleanedText):\n",
    "    combine = cleanedText[i] + cleanedText[i+1] + \",\"\n",
    "    codeCoords.append(combine)\n",
    "    i = i+2\n",
    "    "
   ]
  },
  {
   "cell_type": "markdown",
   "metadata": {},
   "source": [
    "However, some coordinates contain multiple \"islands\" which means when the above combinations are made, some coordinates are left behind on their own line. \n",
    "\n",
    "The cell below checks if a coordinate starts with a digit. If it does, it's a postal code in the correct format. If it does not, it's an island that's been left behind; so it's combined with the postal code to which it belongs."
   ]
  },
  {
   "cell_type": "code",
   "execution_count": 17,
   "metadata": {},
   "outputs": [],
   "source": [
    "multiLists = []\n",
    "\n",
    "i = 0\n",
    "while i < len(codeCoords):\n",
    "    checking = codeCoords[i] #the line we're checking\n",
    "    if checking[1].isdigit():\n",
    "        line = checking #fine as it is if its a postcode\n",
    "    elif checking[1].isdigit() == False:\n",
    "        line = multiLists[len(multiLists)-1] + checking #combine with line before\n",
    "        del multiLists[len(multiLists)-1] #delete line before\n",
    "    multiLists.append(line) #replace with new combined line\n",
    "    i = i + 1"
   ]
  },
  {
   "cell_type": "markdown",
   "metadata": {},
   "source": [
    "The combinations caused some brackets to not align correctly so this cell completes the last of the string replacement."
   ]
  },
  {
   "cell_type": "code",
   "execution_count": 18,
   "metadata": {},
   "outputs": [],
   "source": [
    "finalList = []\n",
    "\n",
    "for line in multiLists:\n",
    "    new = line.replace(']]\",\"[[', '],[')\n",
    "    new = new.replace('\"\"', \",\")\n",
    "    new = new.replace(']],[[', '],[')\n",
    "    finalList.append(new)"
   ]
  },
  {
   "cell_type": "markdown",
   "metadata": {},
   "source": [
    "The cleaned codes above contains every postcode in the US. So now we have to choose only the relevant codes.\n",
    "\n",
    "This cell takes our business table, and chooses only the postcodes in the USA. Then it gets a list of all the US postcodes in our dataset and puts it into a list."
   ]
  },
  {
   "cell_type": "code",
   "execution_count": 19,
   "metadata": {},
   "outputs": [],
   "source": [
    "import pandas as pd\n",
    "\n",
    "df = pd.read_csv(\"../../data/raw/yelp_business.csv\")\n",
    "\n",
    "#all 50 state abbreviations taken from https://gist.github.com/JeffPaine/3083347\n",
    "states = [\"AL\", \"AK\", \"AZ\", \"AR\", \"CA\", \"CO\", \"CT\", \"DC\", \"DE\", \"FL\", \"GA\", \n",
    "          \"HI\", \"ID\", \"IL\", \"IN\", \"IA\", \"KS\", \"KY\", \"LA\", \"ME\", \"MD\", \n",
    "          \"MA\", \"MI\", \"MN\", \"MS\", \"MO\", \"MT\", \"NE\", \"NV\", \"NH\", \"NJ\", \n",
    "          \"NM\", \"NY\", \"NC\", \"ND\", \"OH\", \"OK\", \"OR\", \"PA\", \"RI\", \"SC\", \n",
    "          \"SD\", \"TN\", \"TX\", \"UT\", \"VT\", \"VA\", \"WA\", \"WV\", \"WI\", \"WY\"]\n",
    "\n",
    "USA = df[df['state'].isin(states)] #from our dataframe, take all the US areas\n",
    "listCodeswithnan = USA['postal_code'].unique().tolist() #get all the unique US postcodes in the dataframe and make a list\n",
    "listCodes = [i for i in listCodeswithnan if str(i) != 'nan'] #remove nan values"
   ]
  },
  {
   "cell_type": "markdown",
   "metadata": {},
   "source": [
    "This cell chooses all the revlevant postcodes from our master list of all cleaned codes."
   ]
  },
  {
   "cell_type": "code",
   "execution_count": 20,
   "metadata": {},
   "outputs": [],
   "source": [
    "sortYelpCodes = []\n",
    "for i in finalList:\n",
    "    if i[1:6] in listCodes: #[1:6] is where our postcode is in the string\n",
    "        sortYelpCodes.append(i)"
   ]
  },
  {
   "cell_type": "markdown",
   "metadata": {},
   "source": [
    "The very last entry in the list ends with a comma, which we don't need."
   ]
  },
  {
   "cell_type": "code",
   "execution_count": 21,
   "metadata": {},
   "outputs": [],
   "source": [
    "#get the last entry in the list, and take the entire string except for the last character\n",
    "removeComma = sortYelpCodes[len(sortYelpCodes)-1][:len(sortYelpCodes[len(sortYelpCodes)-1])-1]\n",
    "del sortYelpCodes[len(sortYelpCodes)-1] #delete old last entry\n",
    "sortYelpCodes.append(removeComma) #replace with version that has no comma"
   ]
  },
  {
   "cell_type": "markdown",
   "metadata": {},
   "source": [
    "Finally, we make it all one line and add curly brackets to make it look like a dictionary."
   ]
  },
  {
   "cell_type": "code",
   "execution_count": 24,
   "metadata": {},
   "outputs": [],
   "source": [
    "yelpCodesFinal = \"\".join(sortYelpCodes) #make it all one line\n",
    "makeDict = \"{\" + yelpCodesFinal +\"}\" #add brackets to make it a dict"
   ]
  },
  {
   "cell_type": "markdown",
   "metadata": {},
   "source": [
    "Write it to a text file to be accessed by the Basemap notebook"
   ]
  },
  {
   "cell_type": "code",
   "execution_count": 25,
   "metadata": {},
   "outputs": [],
   "source": [
    "yc = open(\"../../data/prep/yelpCodes.txt\", \"w+\")\n",
    "yc.write(makeDict)\n",
    "yc.close()"
   ]
  },
  {
   "cell_type": "markdown",
   "metadata": {},
   "source": [
    "### Example\n",
    "\n",
    "In the Basemap Notebook, we will take this text file and evaluate it to make it a dictionary. We can then call any postcode from our data and it will give is all the coordinates to draw that postcode boundary.\n",
    "\n",
    "For example, the codes below represent the outline of postcode 89121 (in Nevada)"
   ]
  },
  {
   "cell_type": "code",
   "execution_count": 26,
   "metadata": {},
   "outputs": [
    {
     "data": {
      "text/plain": [
       "'[[-115.119175,36.11475],[-115.11912,36.11097],[-115.117069,36.111026],[-115.117031,36.109484],[-115.119122,36.109976],[-115.119067,36.1073],[-115.11674,36.107327],[-115.116743,36.103634],[-115.118992,36.103612],[-115.118925,36.099947],[-115.109963,36.099981],[-115.109469,36.09725],[-115.104396,36.09727],[-115.103825,36.09563],[-115.101015,36.0957],[-115.101037,36.100034],[-115.091771,36.100168],[-115.073216,36.100281],[-115.0732,36.099001],[-115.071308,36.098982],[-115.070106,36.099785],[-115.066353,36.099742],[-115.066324,36.100251],[-115.063931,36.100234],[-115.064097,36.102993],[-115.060349,36.102875],[-115.061336,36.103425],[-115.064124,36.103402],[-115.064959,36.118632],[-115.062616,36.118627],[-115.060093,36.11957],[-115.060182,36.121334],[-115.062633,36.122301],[-115.065124,36.122277],[-115.065432,36.129598],[-115.060742,36.129652],[-115.060713,36.137033],[-115.065438,36.136967],[-115.06559,36.13697],[-115.065524,36.142332],[-115.078675,36.142272],[-115.082936,36.143008],[-115.082934,36.144285],[-115.088148,36.144357],[-115.091197,36.146118],[-115.091147,36.14451],[-115.099822,36.144447],[-115.099734,36.144358],[-115.10302,36.144731],[-115.105432,36.144435],[-115.105414,36.140694],[-115.109869,36.140666],[-115.109901,36.14437],[-115.117322,36.144442],[-115.118763,36.144383],[-115.118691,36.140702],[-115.116936,36.140695],[-115.116998,36.137028],[-115.118572,36.137028],[-115.118213,36.13342],[-115.116696,36.129801],[-115.118549,36.129827],[-115.119029,36.118442],[-115.116761,36.118505],[-115.116862,36.114829],[-115.119175,36.11475]]'"
      ]
     },
     "execution_count": 26,
     "metadata": {},
     "output_type": "execute_result"
    }
   ],
   "source": [
    "example = eval(makeDict)\n",
    "example['89121']"
   ]
  }
 ],
 "metadata": {
  "kernelspec": {
   "display_name": "Python 3",
   "language": "python",
   "name": "python3"
  },
  "language_info": {
   "codemirror_mode": {
    "name": "ipython",
    "version": 3
   },
   "file_extension": ".py",
   "mimetype": "text/x-python",
   "name": "python",
   "nbconvert_exporter": "python",
   "pygments_lexer": "ipython3",
   "version": "3.6.4"
  }
 },
 "nbformat": 4,
 "nbformat_minor": 2
}
