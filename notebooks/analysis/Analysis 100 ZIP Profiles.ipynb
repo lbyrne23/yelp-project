{
 "cells": [
  {
   "cell_type": "markdown",
   "metadata": {},
   "source": [
    "# 100 ZIP Profiles\n",
    "\n",
    "## Purpose:\n",
    "<p>This notebook creates a dataset of profiles for various ZIP Codes present in the input file. Each profile contains various business related metrics for the area.</p>\n",
    "\n",
    "## Input:\n",
    "'business_2_interactions.pkl'\n",
    "## Output:\n",
    "'ZIPprofiles.pkl' & 'ZIPprofiles.csv' , csv needed for use in python 2"
   ]
  },
  {
   "cell_type": "code",
   "execution_count": 1,
   "metadata": {
    "collapsed": false
   },
   "outputs": [],
   "source": [
    "import sys\n",
    "import pandas as pd\n",
    "import numpy as np\n",
    "import os\n",
    "module_path = os.path.abspath(os.path.join('../../data/..'))\n",
    "if module_path not in sys.path:\n",
    "    sys.path.append(module_path)\n",
    "    \n",
    "%matplotlib inline"
   ]
  },
  {
   "cell_type": "markdown",
   "metadata": {},
   "source": [
    "## Set-up for creating our ZIP Profiles\n",
    "First, let's load our dataset of businesses into a dataframe."
   ]
  },
  {
   "cell_type": "code",
   "execution_count": 2,
   "metadata": {
    "collapsed": false
   },
   "outputs": [],
   "source": [
    "businessPrepped = pd.read_pickle('../../data/analysis/business_2_interactions.pkl')"
   ]
  },
  {
   "cell_type": "code",
   "execution_count": 3,
   "metadata": {
    "collapsed": false
   },
   "outputs": [
    {
     "name": "stdout",
     "output_type": "stream",
     "text": [
      "<class 'pandas.core.frame.DataFrame'>\n",
      "Int64Index: 174567 entries, 0 to 174566\n",
      "Data columns (total 11 columns):\n",
      "business_id             174567 non-null object\n",
      "name                    174567 non-null object\n",
      "state                   174566 non-null object\n",
      "stars                   174567 non-null float64\n",
      "review_count            174567 non-null int64\n",
      "is_open                 174567 non-null int64\n",
      "postal_code             174567 non-null object\n",
      "categories              174567 non-null object\n",
      "checkins                174567 non-null float64\n",
      "tipcount                174567 non-null float64\n",
      "interactionsWeighted    174567 non-null float64\n",
      "dtypes: float64(4), int64(2), object(5)\n",
      "memory usage: 16.0+ MB\n"
     ]
    }
   ],
   "source": [
    "businessPrepped.info()"
   ]
  },
  {
   "cell_type": "markdown",
   "metadata": {},
   "source": [
    "Let's remind ourselves of what's in the business dataset, so we know what we'd like to use for our ZIP code area metrics."
   ]
  },
  {
   "cell_type": "code",
   "execution_count": 4,
   "metadata": {
    "collapsed": false
   },
   "outputs": [
    {
     "data": {
      "text/html": [
       "<div>\n",
       "<table border=\"1\" class=\"dataframe\">\n",
       "  <thead>\n",
       "    <tr style=\"text-align: right;\">\n",
       "      <th></th>\n",
       "      <th>business_id</th>\n",
       "      <th>name</th>\n",
       "      <th>state</th>\n",
       "      <th>stars</th>\n",
       "      <th>review_count</th>\n",
       "      <th>is_open</th>\n",
       "      <th>postal_code</th>\n",
       "      <th>categories</th>\n",
       "      <th>checkins</th>\n",
       "      <th>tipcount</th>\n",
       "      <th>interactionsWeighted</th>\n",
       "    </tr>\n",
       "  </thead>\n",
       "  <tbody>\n",
       "    <tr>\n",
       "      <th>0</th>\n",
       "      <td>FYWN1wneV18bWNgQjJ2GNg</td>\n",
       "      <td>\"Dental by Design\"</td>\n",
       "      <td>AZ</td>\n",
       "      <td>4.0</td>\n",
       "      <td>22</td>\n",
       "      <td>1</td>\n",
       "      <td>85044</td>\n",
       "      <td>Dentists;General Dentistry;Health &amp; Medical;Or...</td>\n",
       "      <td>39.0</td>\n",
       "      <td>5.0</td>\n",
       "      <td>109.685216</td>\n",
       "    </tr>\n",
       "    <tr>\n",
       "      <th>1</th>\n",
       "      <td>He-G7vWjzVUysIKrfNbPUQ</td>\n",
       "      <td>\"Stephen Szabo Salon\"</td>\n",
       "      <td>PA</td>\n",
       "      <td>3.0</td>\n",
       "      <td>11</td>\n",
       "      <td>1</td>\n",
       "      <td>15317</td>\n",
       "      <td>Hair Stylists;Hair Salons;Men's Hair Salons;Bl...</td>\n",
       "      <td>15.0</td>\n",
       "      <td>1.0</td>\n",
       "      <td>46.415652</td>\n",
       "    </tr>\n",
       "    <tr>\n",
       "      <th>2</th>\n",
       "      <td>KQPW8lFf1y5BT2MxiSZ3QA</td>\n",
       "      <td>\"Western Motor Vehicle\"</td>\n",
       "      <td>AZ</td>\n",
       "      <td>1.5</td>\n",
       "      <td>18</td>\n",
       "      <td>1</td>\n",
       "      <td>85017</td>\n",
       "      <td>Departments of Motor Vehicles;Public Services ...</td>\n",
       "      <td>6.0</td>\n",
       "      <td>0.0</td>\n",
       "      <td>53.123477</td>\n",
       "    </tr>\n",
       "    <tr>\n",
       "      <th>3</th>\n",
       "      <td>8DShNS-LuFqpEWIp0HxijA</td>\n",
       "      <td>\"Sports Authority\"</td>\n",
       "      <td>AZ</td>\n",
       "      <td>3.0</td>\n",
       "      <td>9</td>\n",
       "      <td>0</td>\n",
       "      <td>85282</td>\n",
       "      <td>Sporting Goods;Shopping</td>\n",
       "      <td>120.0</td>\n",
       "      <td>3.0</td>\n",
       "      <td>151.415652</td>\n",
       "    </tr>\n",
       "    <tr>\n",
       "      <th>4</th>\n",
       "      <td>PfOCPjBrlQAnz__NXj9h_w</td>\n",
       "      <td>\"Brick House Tavern + Tap\"</td>\n",
       "      <td>OH</td>\n",
       "      <td>3.5</td>\n",
       "      <td>116</td>\n",
       "      <td>1</td>\n",
       "      <td>44221</td>\n",
       "      <td>American (New);Nightlife;Bars;Sandwiches;Ameri...</td>\n",
       "      <td>263.0</td>\n",
       "      <td>17.0</td>\n",
       "      <td>611.190138</td>\n",
       "    </tr>\n",
       "  </tbody>\n",
       "</table>\n",
       "</div>"
      ],
      "text/plain": [
       "              business_id                        name state  stars  \\\n",
       "0  FYWN1wneV18bWNgQjJ2GNg          \"Dental by Design\"    AZ    4.0   \n",
       "1  He-G7vWjzVUysIKrfNbPUQ       \"Stephen Szabo Salon\"    PA    3.0   \n",
       "2  KQPW8lFf1y5BT2MxiSZ3QA     \"Western Motor Vehicle\"    AZ    1.5   \n",
       "3  8DShNS-LuFqpEWIp0HxijA          \"Sports Authority\"    AZ    3.0   \n",
       "4  PfOCPjBrlQAnz__NXj9h_w  \"Brick House Tavern + Tap\"    OH    3.5   \n",
       "\n",
       "   review_count  is_open postal_code  \\\n",
       "0            22        1       85044   \n",
       "1            11        1       15317   \n",
       "2            18        1       85017   \n",
       "3             9        0       85282   \n",
       "4           116        1       44221   \n",
       "\n",
       "                                          categories  checkins  tipcount  \\\n",
       "0  Dentists;General Dentistry;Health & Medical;Or...      39.0       5.0   \n",
       "1  Hair Stylists;Hair Salons;Men's Hair Salons;Bl...      15.0       1.0   \n",
       "2  Departments of Motor Vehicles;Public Services ...       6.0       0.0   \n",
       "3                            Sporting Goods;Shopping     120.0       3.0   \n",
       "4  American (New);Nightlife;Bars;Sandwiches;Ameri...     263.0      17.0   \n",
       "\n",
       "   interactionsWeighted  \n",
       "0            109.685216  \n",
       "1             46.415652  \n",
       "2             53.123477  \n",
       "3            151.415652  \n",
       "4            611.190138  "
      ]
     },
     "execution_count": 4,
     "metadata": {},
     "output_type": "execute_result"
    }
   ],
   "source": [
    "businessPrepped.head()"
   ]
  },
  {
   "cell_type": "markdown",
   "metadata": {},
   "source": [
    "We would like to know the mean rating of open businesses in an area, as well as the mean rating of closed businesses.\n",
    "<p> Let's define functions to create series of open and closed businesses ratings, which can later be grouped and aggregated by area."
   ]
  },
  {
   "cell_type": "code",
   "execution_count": 5,
   "metadata": {
    "collapsed": false
   },
   "outputs": [],
   "source": [
    "\n",
    "#Returns NaN for closed businesses, and the current star rating for open businesses.\n",
    "def openStars(row):\n",
    "    if row['is_open'] == 0: #If business is not open, return NaN. Otherwise, return the rating of the open business.\n",
    "       return np.nan\n",
    "    return row['stars']\n",
    "\n",
    "#Returns NaN for closed businesses, and the current star rating for open businesses.\n",
    "def closedStars(row):\n",
    "    if row['is_open'] == 1: # If business is open, return Nan. Otherwise return the rating of the closed business.\n",
    "       return np.nan\n",
    "    return row['stars']\n"
   ]
  },
  {
   "cell_type": "markdown",
   "metadata": {},
   "source": [
    "Now let's apply these functions, and observe the resulting dataframe."
   ]
  },
  {
   "cell_type": "code",
   "execution_count": 6,
   "metadata": {
    "collapsed": false
   },
   "outputs": [
    {
     "data": {
      "text/html": [
       "<div>\n",
       "<table border=\"1\" class=\"dataframe\">\n",
       "  <thead>\n",
       "    <tr style=\"text-align: right;\">\n",
       "      <th></th>\n",
       "      <th>business_id</th>\n",
       "      <th>name</th>\n",
       "      <th>state</th>\n",
       "      <th>stars</th>\n",
       "      <th>review_count</th>\n",
       "      <th>is_open</th>\n",
       "      <th>postal_code</th>\n",
       "      <th>categories</th>\n",
       "      <th>checkins</th>\n",
       "      <th>tipcount</th>\n",
       "      <th>interactionsWeighted</th>\n",
       "      <th>open_stars</th>\n",
       "      <th>closed_stars</th>\n",
       "    </tr>\n",
       "  </thead>\n",
       "  <tbody>\n",
       "    <tr>\n",
       "      <th>0</th>\n",
       "      <td>FYWN1wneV18bWNgQjJ2GNg</td>\n",
       "      <td>\"Dental by Design\"</td>\n",
       "      <td>AZ</td>\n",
       "      <td>4.0</td>\n",
       "      <td>22</td>\n",
       "      <td>1</td>\n",
       "      <td>85044</td>\n",
       "      <td>Dentists;General Dentistry;Health &amp; Medical;Or...</td>\n",
       "      <td>39.0</td>\n",
       "      <td>5.0</td>\n",
       "      <td>109.685216</td>\n",
       "      <td>4.0</td>\n",
       "      <td>NaN</td>\n",
       "    </tr>\n",
       "    <tr>\n",
       "      <th>1</th>\n",
       "      <td>He-G7vWjzVUysIKrfNbPUQ</td>\n",
       "      <td>\"Stephen Szabo Salon\"</td>\n",
       "      <td>PA</td>\n",
       "      <td>3.0</td>\n",
       "      <td>11</td>\n",
       "      <td>1</td>\n",
       "      <td>15317</td>\n",
       "      <td>Hair Stylists;Hair Salons;Men's Hair Salons;Bl...</td>\n",
       "      <td>15.0</td>\n",
       "      <td>1.0</td>\n",
       "      <td>46.415652</td>\n",
       "      <td>3.0</td>\n",
       "      <td>NaN</td>\n",
       "    </tr>\n",
       "    <tr>\n",
       "      <th>2</th>\n",
       "      <td>KQPW8lFf1y5BT2MxiSZ3QA</td>\n",
       "      <td>\"Western Motor Vehicle\"</td>\n",
       "      <td>AZ</td>\n",
       "      <td>1.5</td>\n",
       "      <td>18</td>\n",
       "      <td>1</td>\n",
       "      <td>85017</td>\n",
       "      <td>Departments of Motor Vehicles;Public Services ...</td>\n",
       "      <td>6.0</td>\n",
       "      <td>0.0</td>\n",
       "      <td>53.123477</td>\n",
       "      <td>1.5</td>\n",
       "      <td>NaN</td>\n",
       "    </tr>\n",
       "    <tr>\n",
       "      <th>3</th>\n",
       "      <td>8DShNS-LuFqpEWIp0HxijA</td>\n",
       "      <td>\"Sports Authority\"</td>\n",
       "      <td>AZ</td>\n",
       "      <td>3.0</td>\n",
       "      <td>9</td>\n",
       "      <td>0</td>\n",
       "      <td>85282</td>\n",
       "      <td>Sporting Goods;Shopping</td>\n",
       "      <td>120.0</td>\n",
       "      <td>3.0</td>\n",
       "      <td>151.415652</td>\n",
       "      <td>NaN</td>\n",
       "      <td>3.0</td>\n",
       "    </tr>\n",
       "    <tr>\n",
       "      <th>4</th>\n",
       "      <td>PfOCPjBrlQAnz__NXj9h_w</td>\n",
       "      <td>\"Brick House Tavern + Tap\"</td>\n",
       "      <td>OH</td>\n",
       "      <td>3.5</td>\n",
       "      <td>116</td>\n",
       "      <td>1</td>\n",
       "      <td>44221</td>\n",
       "      <td>American (New);Nightlife;Bars;Sandwiches;Ameri...</td>\n",
       "      <td>263.0</td>\n",
       "      <td>17.0</td>\n",
       "      <td>611.190138</td>\n",
       "      <td>3.5</td>\n",
       "      <td>NaN</td>\n",
       "    </tr>\n",
       "  </tbody>\n",
       "</table>\n",
       "</div>"
      ],
      "text/plain": [
       "              business_id                        name state  stars  \\\n",
       "0  FYWN1wneV18bWNgQjJ2GNg          \"Dental by Design\"    AZ    4.0   \n",
       "1  He-G7vWjzVUysIKrfNbPUQ       \"Stephen Szabo Salon\"    PA    3.0   \n",
       "2  KQPW8lFf1y5BT2MxiSZ3QA     \"Western Motor Vehicle\"    AZ    1.5   \n",
       "3  8DShNS-LuFqpEWIp0HxijA          \"Sports Authority\"    AZ    3.0   \n",
       "4  PfOCPjBrlQAnz__NXj9h_w  \"Brick House Tavern + Tap\"    OH    3.5   \n",
       "\n",
       "   review_count  is_open postal_code  \\\n",
       "0            22        1       85044   \n",
       "1            11        1       15317   \n",
       "2            18        1       85017   \n",
       "3             9        0       85282   \n",
       "4           116        1       44221   \n",
       "\n",
       "                                          categories  checkins  tipcount  \\\n",
       "0  Dentists;General Dentistry;Health & Medical;Or...      39.0       5.0   \n",
       "1  Hair Stylists;Hair Salons;Men's Hair Salons;Bl...      15.0       1.0   \n",
       "2  Departments of Motor Vehicles;Public Services ...       6.0       0.0   \n",
       "3                            Sporting Goods;Shopping     120.0       3.0   \n",
       "4  American (New);Nightlife;Bars;Sandwiches;Ameri...     263.0      17.0   \n",
       "\n",
       "   interactionsWeighted  open_stars  closed_stars  \n",
       "0            109.685216         4.0           NaN  \n",
       "1             46.415652         3.0           NaN  \n",
       "2             53.123477         1.5           NaN  \n",
       "3            151.415652         NaN           3.0  \n",
       "4            611.190138         3.5           NaN  "
      ]
     },
     "execution_count": 6,
     "metadata": {},
     "output_type": "execute_result"
    }
   ],
   "source": [
    "# axis = 1, indicates that we will iterate over rows. Each row will have openStars performed on it.\n",
    "#The resulting series will be added to the original dataframe as 'open_stars'.\n",
    "businessPrepped['open_stars'] = businessPrepped.apply(lambda row : openStars(row), axis=1)\n",
    "\n",
    "#Similarly, closedStars is performed on the dataframe below.\n",
    "businessPrepped['closed_stars'] = businessPrepped.apply(lambda row : closedStars(row), axis=1)\n",
    "\n",
    "businessPrepped.head()"
   ]
  },
  {
   "cell_type": "markdown",
   "metadata": {},
   "source": [
    "Similar to the open and closed business ratings above, let's perform a similar task and split the category column into 'openCategories' and 'closedCategories. Each will record the category string of either open or closed businesses. "
   ]
  },
  {
   "cell_type": "code",
   "execution_count": 7,
   "metadata": {
    "collapsed": false
   },
   "outputs": [],
   "source": [
    "\n",
    "#Returns Empty String \"\" for closed businesses, and the current current category for open businesses.\n",
    "def openCategories(row):\n",
    "    if row['is_open'] == 0:\n",
    "       return \"\"\n",
    "    return row['categories']\n",
    "\n",
    "#Returns Empty String \"\" for closed businesses, and the current current category for open businesses.\n",
    "def closedCategories(row):\n",
    "    if row['is_open'] == 1:\n",
    "       return \"\"\n",
    "    return row['categories']\n",
    "\n"
   ]
  },
  {
   "cell_type": "markdown",
   "metadata": {},
   "source": [
    "We'll apply these new functions to the dataframe, save the resulting series as new columns. And then observe the results."
   ]
  },
  {
   "cell_type": "code",
   "execution_count": 1,
   "metadata": {
    "collapsed": false
   },
   "outputs": [
    {
     "ename": "NameError",
     "evalue": "name 'businessPrepped' is not defined",
     "output_type": "error",
     "traceback": [
      "\u001b[0;31m---------------------------------------------------------------------------\u001b[0m",
      "\u001b[0;31mNameError\u001b[0m                                 Traceback (most recent call last)",
      "\u001b[0;32m<ipython-input-1-89088cf1b436>\u001b[0m in \u001b[0;36m<module>\u001b[0;34m()\u001b[0m\n\u001b[1;32m      1\u001b[0m \u001b[1;31m# Axis = 1 indicates that we are iterating over rows and not columns\u001b[0m\u001b[1;33m\u001b[0m\u001b[1;33m\u001b[0m\u001b[0m\n\u001b[0;32m----> 2\u001b[0;31m \u001b[0mbusinessPrepped\u001b[0m\u001b[1;33m[\u001b[0m\u001b[1;34m'closed_categories'\u001b[0m\u001b[1;33m]\u001b[0m \u001b[1;33m=\u001b[0m \u001b[0mbusinessPrepped\u001b[0m\u001b[1;33m.\u001b[0m\u001b[0mapply\u001b[0m\u001b[1;33m(\u001b[0m\u001b[1;32mlambda\u001b[0m \u001b[0mrow\u001b[0m \u001b[1;33m:\u001b[0m \u001b[0mclosedCategories\u001b[0m\u001b[1;33m(\u001b[0m\u001b[0mrow\u001b[0m\u001b[1;33m)\u001b[0m\u001b[1;33m,\u001b[0m \u001b[0maxis\u001b[0m\u001b[1;33m=\u001b[0m\u001b[1;36m1\u001b[0m\u001b[1;33m)\u001b[0m\u001b[1;33m\u001b[0m\u001b[0m\n\u001b[0m\u001b[1;32m      3\u001b[0m \u001b[0mbusinessPrepped\u001b[0m\u001b[1;33m[\u001b[0m\u001b[1;34m'open_categories'\u001b[0m\u001b[1;33m]\u001b[0m \u001b[1;33m=\u001b[0m \u001b[0mbusinessPrepped\u001b[0m\u001b[1;33m.\u001b[0m\u001b[0mapply\u001b[0m\u001b[1;33m(\u001b[0m\u001b[1;32mlambda\u001b[0m \u001b[0mrow\u001b[0m \u001b[1;33m:\u001b[0m \u001b[0mopenCategories\u001b[0m\u001b[1;33m(\u001b[0m\u001b[0mrow\u001b[0m\u001b[1;33m)\u001b[0m\u001b[1;33m,\u001b[0m \u001b[0maxis\u001b[0m\u001b[1;33m=\u001b[0m\u001b[1;36m1\u001b[0m\u001b[1;33m)\u001b[0m\u001b[1;33m\u001b[0m\u001b[0m\n\u001b[1;32m      4\u001b[0m \u001b[0mbusinessPrepped\u001b[0m\u001b[1;33m.\u001b[0m\u001b[0mhead\u001b[0m\u001b[1;33m(\u001b[0m\u001b[1;33m)\u001b[0m\u001b[1;33m\u001b[0m\u001b[0m\n",
      "\u001b[0;31mNameError\u001b[0m: name 'businessPrepped' is not defined"
     ]
    }
   ],
   "source": [
    "# Axis = 1 indicates that we are iterating over rows and not columns\n",
    "businessPrepped['closed_categories'] = businessPrepped.apply(lambda row : closedCategories(row), axis=1)\n",
    "businessPrepped['open_categories'] = businessPrepped.apply(lambda row : openCategories(row), axis=1)\n",
    "businessPrepped.head()"
   ]
  },
  {
   "cell_type": "markdown",
   "metadata": {},
   "source": [
    "##  Creating our new ZIP profile dataframe.\n",
    "\n",
    "Let's create ZIP profiles containing the following information;\n",
    "- ZIP Code\n",
    "- State\n",
    "- Number of businesses\n",
    "- Number of Open Businesses\n",
    "- % Businesses Closed\n",
    "- Avg. Review Count of the businesses in the area.\n",
    "- Avg. Tip Counts of the businesses\n",
    "- Avg. Checkins\n",
    "- Avg. Interactions (A weighted combination of Reviews,Tips and Checkins.)\n",
    "- Mean Star Rating of Open Businesses\n",
    "- Mean Star Rating of Closed Businesses\n",
    "- Standard Deviation of all Star Ratings in each area.\n",
    "- Count of each open category in each area.\n",
    "- Count of each closed category in each area."
   ]
  },
  {
   "cell_type": "markdown",
   "metadata": {},
   "source": [
    "Let's create a function that will aggregate category columns in different groups.\n",
    "\n",
    "Categories of a restaurant are stored as strings, delimited by a semi-colon.\n",
    "\n",
    "We will try add these to a dictionary for the area, which will record the occurences of every local category."
   ]
  },
  {
   "cell_type": "code",
   "execution_count": 9,
   "metadata": {
    "collapsed": true
   },
   "outputs": [],
   "source": [
    "def categoryAgg(categoryColumn):\n",
    "    areaCategories= {} # Empty Dictionary to fill.\n",
    "    \n",
    "    # For each business categories string...\n",
    "    for value in categoryColumn:\n",
    "        #Split this string on the semi-colons, and store them in a list.\n",
    "        categoryList = value.lower().split(\";\")\n",
    "        #For each category in this list...\n",
    "        for category in categoryList:\n",
    "            #If the category is already in our dictionary, increment the number associated by 1.\n",
    "            if category in areaCategories:\n",
    "                areaCategories[category] += 1\n",
    "            #Else if the category list isn't empty, add this category to our dictionary and instantiate it with a value of 1.\n",
    "            elif category != \"\":\n",
    "                areaCategories[category] = 1\n",
    "    return areaCategories"
   ]
  },
  {
   "cell_type": "markdown",
   "metadata": {},
   "source": [
    "<p>Now we'll create a function that will record a dictionary of the number of various chains in each area. It will do this by aggregating the business 'name' column in a group.</p>\n",
    "<p>A business qualifies as a 'chain' if it is one of the top 10 occurring names which we uncovered in our dataset overview.</p>"
   ]
  },
  {
   "cell_type": "code",
   "execution_count": 10,
   "metadata": {
    "collapsed": false
   },
   "outputs": [],
   "source": [
    "#Operates on 'name' column and returns a dictionary counting the number of different chains.\n",
    "def chainAgg(nameColumn):\n",
    "    #Self-determined list of chains based on their appearances in dataset.\n",
    "    chainList = ['\"Starbucks\"', '\"McDonald\"\\'s','\"Subway\"', '\"Pizza Hut\"','\"Taco Bell\"','\"Burger King\"','\"Walgreens\"','\"Wendy\\'s\"',\\\n",
    "                '\"The UPS Store\"', '\"Tim Hortons\"']\n",
    "    \n",
    "    #Empty Dictionary to record chain occurences. \n",
    "    areaChains= {}\n",
    "    \n",
    "    #For each name in the column, if it's in our list of chains...\n",
    "    for name in nameColumn:\n",
    "        if name in chainList:\n",
    "            #if the chain is already in the 'areaChains' dictionary, increment the corresponding count.\n",
    "            if name in areaChains:\n",
    "                areaChains[name] += 1\n",
    "            #otherwise add the chain to the dictionary with a value of 1.\n",
    "            else :\n",
    "                areaChains[name] = 1\n",
    "    return areaChains"
   ]
  },
  {
   "cell_type": "markdown",
   "metadata": {},
   "source": [
    "Now, let's group the businesses by postal/ZIP code, but also by state to retain this info for each area code.\n",
    "\n",
    "<p>We'll also aggregate them to get our desired metrics (e.g. 'is_open' will be summed together to find the number of open businesses in each area.)</p>"
   ]
  },
  {
   "cell_type": "code",
   "execution_count": 11,
   "metadata": {
    "collapsed": false
   },
   "outputs": [],
   "source": [
    "\n",
    "zipProfileGroups = businessPrepped.groupby(['postal_code', 'state']).agg({'business_id':'count', 'is_open':sum,\\\n",
    "                                    'review_count':'mean','checkins':'mean', 'tipcount':'mean','interactionsWeighted':'mean',\\\n",
    "                                    'open_stars':'mean', 'closed_stars':'mean','stars':\"std\" ,\\\n",
    "                                                'open_categories':categoryAgg,'closed_categories':categoryAgg, 'name':chainAgg})"
   ]
  },
  {
   "cell_type": "markdown",
   "metadata": {},
   "source": [
    "Now we will convert this group object into a dataframe, we will also reset the 'state' index, making it a column in our dataframe. ZIP code alone will be our index."
   ]
  },
  {
   "cell_type": "code",
   "execution_count": 12,
   "metadata": {
    "collapsed": false
   },
   "outputs": [
    {
     "data": {
      "text/html": [
       "<div>\n",
       "<table border=\"1\" class=\"dataframe\">\n",
       "  <thead>\n",
       "    <tr style=\"text-align: right;\">\n",
       "      <th></th>\n",
       "      <th>state</th>\n",
       "      <th>business_id</th>\n",
       "      <th>is_open</th>\n",
       "      <th>review_count</th>\n",
       "      <th>checkins</th>\n",
       "      <th>tipcount</th>\n",
       "      <th>interactionsWeighted</th>\n",
       "      <th>open_stars</th>\n",
       "      <th>closed_stars</th>\n",
       "      <th>stars</th>\n",
       "      <th>open_categories</th>\n",
       "      <th>closed_categories</th>\n",
       "      <th>name</th>\n",
       "    </tr>\n",
       "    <tr>\n",
       "      <th>postal_code</th>\n",
       "      <th></th>\n",
       "      <th></th>\n",
       "      <th></th>\n",
       "      <th></th>\n",
       "      <th></th>\n",
       "      <th></th>\n",
       "      <th></th>\n",
       "      <th></th>\n",
       "      <th></th>\n",
       "      <th></th>\n",
       "      <th></th>\n",
       "      <th></th>\n",
       "      <th></th>\n",
       "    </tr>\n",
       "  </thead>\n",
       "  <tbody>\n",
       "    <tr>\n",
       "      <th>02224</th>\n",
       "      <td>OH</td>\n",
       "      <td>1</td>\n",
       "      <td>1</td>\n",
       "      <td>7.0</td>\n",
       "      <td>13.0</td>\n",
       "      <td>0.0</td>\n",
       "      <td>31.325797</td>\n",
       "      <td>2.50</td>\n",
       "      <td>NaN</td>\n",
       "      <td>NaN</td>\n",
       "      <td>{'restaurants': 1, 'fast food': 1, 'burgers': 1}</td>\n",
       "      <td>{}</td>\n",
       "      <td>{}</td>\n",
       "    </tr>\n",
       "    <tr>\n",
       "      <th>05440</th>\n",
       "      <td>VT</td>\n",
       "      <td>2</td>\n",
       "      <td>2</td>\n",
       "      <td>4.0</td>\n",
       "      <td>2.5</td>\n",
       "      <td>1.0</td>\n",
       "      <td>15.589855</td>\n",
       "      <td>4.25</td>\n",
       "      <td>NaN</td>\n",
       "      <td>1.06066</td>\n",
       "      <td>{'bed &amp; breakfast': 1, 'hotels &amp; travel': 1, '...</td>\n",
       "      <td>{}</td>\n",
       "      <td>{}</td>\n",
       "    </tr>\n",
       "    <tr>\n",
       "      <th>05452</th>\n",
       "      <td>PA</td>\n",
       "      <td>1</td>\n",
       "      <td>1</td>\n",
       "      <td>49.0</td>\n",
       "      <td>1.0</td>\n",
       "      <td>7.0</td>\n",
       "      <td>147.606374</td>\n",
       "      <td>4.00</td>\n",
       "      <td>NaN</td>\n",
       "      <td>NaN</td>\n",
       "      <td>{'restaurants': 1, 'cafes': 1, 'delis': 1}</td>\n",
       "      <td>{}</td>\n",
       "      <td>{}</td>\n",
       "    </tr>\n",
       "  </tbody>\n",
       "</table>\n",
       "</div>"
      ],
      "text/plain": [
       "            state  business_id  is_open  review_count  checkins  tipcount  \\\n",
       "postal_code                                                                 \n",
       "02224          OH            1        1           7.0      13.0       0.0   \n",
       "05440          VT            2        2           4.0       2.5       1.0   \n",
       "05452          PA            1        1          49.0       1.0       7.0   \n",
       "\n",
       "             interactionsWeighted  open_stars  closed_stars    stars  \\\n",
       "postal_code                                                            \n",
       "02224                   31.325797        2.50           NaN      NaN   \n",
       "05440                   15.589855        4.25           NaN  1.06066   \n",
       "05452                  147.606374        4.00           NaN      NaN   \n",
       "\n",
       "                                               open_categories  \\\n",
       "postal_code                                                      \n",
       "02224         {'restaurants': 1, 'fast food': 1, 'burgers': 1}   \n",
       "05440        {'bed & breakfast': 1, 'hotels & travel': 1, '...   \n",
       "05452               {'restaurants': 1, 'cafes': 1, 'delis': 1}   \n",
       "\n",
       "            closed_categories name  \n",
       "postal_code                         \n",
       "02224                      {}   {}  \n",
       "05440                      {}   {}  \n",
       "05452                      {}   {}  "
      ]
     },
     "execution_count": 12,
     "metadata": {},
     "output_type": "execute_result"
    }
   ],
   "source": [
    "zipProfileDf = pd.DataFrame(zipProfileGroups)\n",
    "zipProfileDf.reset_index(level = 1, inplace = True)\n",
    "zipProfileDf.head(3)"
   ]
  },
  {
   "cell_type": "markdown",
   "metadata": {},
   "source": [
    "Now we'll calculate the percentage of businesses that are closed in each area. <p>This will be calculated by the number of open businesses (currently 'is_open'), divided by the total number of businesses in an area (currently 'business_id')."
   ]
  },
  {
   "cell_type": "code",
   "execution_count": 13,
   "metadata": {
    "collapsed": false,
    "scrolled": false
   },
   "outputs": [
    {
     "data": {
      "text/html": [
       "<div>\n",
       "<table border=\"1\" class=\"dataframe\">\n",
       "  <thead>\n",
       "    <tr style=\"text-align: right;\">\n",
       "      <th></th>\n",
       "      <th>state</th>\n",
       "      <th>business_id</th>\n",
       "      <th>is_open</th>\n",
       "      <th>review_count</th>\n",
       "      <th>checkins</th>\n",
       "      <th>tipcount</th>\n",
       "      <th>interactionsWeighted</th>\n",
       "      <th>open_stars</th>\n",
       "      <th>closed_stars</th>\n",
       "      <th>stars</th>\n",
       "      <th>open_categories</th>\n",
       "      <th>closed_categories</th>\n",
       "      <th>name</th>\n",
       "      <th>%closed</th>\n",
       "    </tr>\n",
       "    <tr>\n",
       "      <th>postal_code</th>\n",
       "      <th></th>\n",
       "      <th></th>\n",
       "      <th></th>\n",
       "      <th></th>\n",
       "      <th></th>\n",
       "      <th></th>\n",
       "      <th></th>\n",
       "      <th></th>\n",
       "      <th></th>\n",
       "      <th></th>\n",
       "      <th></th>\n",
       "      <th></th>\n",
       "      <th></th>\n",
       "      <th></th>\n",
       "    </tr>\n",
       "  </thead>\n",
       "  <tbody>\n",
       "    <tr>\n",
       "      <th>15289</th>\n",
       "      <td>PA</td>\n",
       "      <td>23</td>\n",
       "      <td>7</td>\n",
       "      <td>36.173913</td>\n",
       "      <td>90.652174</td>\n",
       "      <td>5.956522</td>\n",
       "      <td>200.948429</td>\n",
       "      <td>3.642857</td>\n",
       "      <td>3.5</td>\n",
       "      <td>0.76742</td>\n",
       "      <td>{'museums': 1, 'colleges &amp; universities': 2, '...</td>\n",
       "      <td>{'sandwiches': 1, 'restaurants': 13, 'bakeries...</td>\n",
       "      <td>{}</td>\n",
       "      <td>69.565217</td>\n",
       "    </tr>\n",
       "  </tbody>\n",
       "</table>\n",
       "</div>"
      ],
      "text/plain": [
       "            state  business_id  is_open  review_count   checkins  tipcount  \\\n",
       "postal_code                                                                  \n",
       "15289          PA           23        7     36.173913  90.652174  5.956522   \n",
       "\n",
       "             interactionsWeighted  open_stars  closed_stars    stars  \\\n",
       "postal_code                                                            \n",
       "15289                  200.948429    3.642857           3.5  0.76742   \n",
       "\n",
       "                                               open_categories  \\\n",
       "postal_code                                                      \n",
       "15289        {'museums': 1, 'colleges & universities': 2, '...   \n",
       "\n",
       "                                             closed_categories name    %closed  \n",
       "postal_code                                                                     \n",
       "15289        {'sandwiches': 1, 'restaurants': 13, 'bakeries...   {}  69.565217  "
      ]
     },
     "execution_count": 13,
     "metadata": {},
     "output_type": "execute_result"
    }
   ],
   "source": [
    "zipProfileDf['%closed'] = ((zipProfileDf['business_id'] - zipProfileDf['is_open']) / zipProfileDf['business_id'])*100\n",
    "\n",
    "zipProfileDf[zipProfileDf['business_id'] > 20].sort_values('%closed', ascending = False).head(1)"
   ]
  },
  {
   "cell_type": "markdown",
   "metadata": {},
   "source": [
    "We will now alter the column titles to accurately reflect their contents. We will also rearrange the columns as desired."
   ]
  },
  {
   "cell_type": "code",
   "execution_count": 14,
   "metadata": {
    "collapsed": false
   },
   "outputs": [],
   "source": [
    "#renaming columns to accurately reflect their contents.\n",
    "zipProfileDf.columns=['state','num_businesses','num_open','num_reviews','num_checkins','num_tips','num_interactions','open_rating','closed_rating','std.dev_rating',\\\n",
    "                      'open_categories','closed_categories','chains','%closed']\n",
    "\n",
    "#Now Rearrange Columns\n",
    "zipProfileDf = zipProfileDf[['state', 'num_businesses','num_open','%closed','num_reviews','num_checkins','num_tips','num_interactions','open_rating','closed_rating',\\\n",
    "                             'std.dev_rating','open_categories','closed_categories','chains']]\n"
   ]
  },
  {
   "cell_type": "markdown",
   "metadata": {},
   "source": [
    "Let's count the number of chains in each area as well, we can also use this number to calculate the percentage of chains in an area.\n",
    "\n",
    "<p>First we'll define a function to count the number of chains using the dictionary holding the counts of chains in an area.<p>"
   ]
  },
  {
   "cell_type": "code",
   "execution_count": 15,
   "metadata": {
    "collapsed": true
   },
   "outputs": [],
   "source": [
    "def countChains(chainDict):\n",
    "    #declare an counter to record number of chains in dictionary\n",
    "    count = 0\n",
    "    \n",
    "    #if chain dictionary is empty return 0\n",
    "    if not chainDict:\n",
    "        return count\n",
    "    \n",
    "    #add each value in the dictionary to the count, these values are the number of specific chain businesses in the area.\n",
    "    count = sum(chainDict.values())\n",
    "        \n",
    "    return count"
   ]
  },
  {
   "cell_type": "markdown",
   "metadata": {},
   "source": [
    "Now let's apply this function to the 'chains' column of our database, which holds these chain dictionaries."
   ]
  },
  {
   "cell_type": "code",
   "execution_count": 16,
   "metadata": {
    "collapsed": false
   },
   "outputs": [],
   "source": [
    "zipProfileDf['num_chains'] = zipProfileDf['chains'].apply(countChains)"
   ]
  },
  {
   "cell_type": "markdown",
   "metadata": {},
   "source": [
    "Let's calculate the percentage of businesses that are chains in an area as well."
   ]
  },
  {
   "cell_type": "code",
   "execution_count": 17,
   "metadata": {
    "collapsed": true
   },
   "outputs": [],
   "source": [
    "zipProfileDf['%chains'] = (zipProfileDf['num_chains'] / zipProfileDf['num_businesses'])*100"
   ]
  },
  {
   "cell_type": "markdown",
   "metadata": {},
   "source": [
    "Let's make sure there's no percentages outside the 0-100 range."
   ]
  },
  {
   "cell_type": "code",
   "execution_count": 19,
   "metadata": {
    "collapsed": false
   },
   "outputs": [
    {
     "data": {
      "text/html": [
       "<div>\n",
       "<table border=\"1\" class=\"dataframe\">\n",
       "  <thead>\n",
       "    <tr style=\"text-align: right;\">\n",
       "      <th></th>\n",
       "      <th>state</th>\n",
       "      <th>num_businesses</th>\n",
       "      <th>num_open</th>\n",
       "      <th>%closed</th>\n",
       "      <th>num_reviews</th>\n",
       "      <th>num_checkins</th>\n",
       "      <th>num_tips</th>\n",
       "      <th>num_interactions</th>\n",
       "      <th>open_rating</th>\n",
       "      <th>closed_rating</th>\n",
       "      <th>std.dev_rating</th>\n",
       "      <th>open_categories</th>\n",
       "      <th>closed_categories</th>\n",
       "      <th>chains</th>\n",
       "      <th>num_chains</th>\n",
       "      <th>%chains</th>\n",
       "    </tr>\n",
       "    <tr>\n",
       "      <th>postal_code</th>\n",
       "      <th></th>\n",
       "      <th></th>\n",
       "      <th></th>\n",
       "      <th></th>\n",
       "      <th></th>\n",
       "      <th></th>\n",
       "      <th></th>\n",
       "      <th></th>\n",
       "      <th></th>\n",
       "      <th></th>\n",
       "      <th></th>\n",
       "      <th></th>\n",
       "      <th></th>\n",
       "      <th></th>\n",
       "      <th></th>\n",
       "      <th></th>\n",
       "    </tr>\n",
       "  </thead>\n",
       "  <tbody>\n",
       "  </tbody>\n",
       "</table>\n",
       "</div>"
      ],
      "text/plain": [
       "Empty DataFrame\n",
       "Columns: [state, num_businesses, num_open, %closed, num_reviews, num_checkins, num_tips, num_interactions, open_rating, closed_rating, std.dev_rating, open_categories, closed_categories, chains, num_chains, %chains]\n",
       "Index: []"
      ]
     },
     "execution_count": 19,
     "metadata": {},
     "output_type": "execute_result"
    }
   ],
   "source": [
    "percentageMask = (zipProfileDf['%chains'] < 0) & (zipProfileDf['%chains'] > 100)\n",
    "zipProfileDf[percentageMask].head()"
   ]
  },
  {
   "cell_type": "markdown",
   "metadata": {},
   "source": [
    "## Review\n",
    "Let's review the information of our dataframe."
   ]
  },
  {
   "cell_type": "code",
   "execution_count": 20,
   "metadata": {
    "collapsed": false
   },
   "outputs": [
    {
     "name": "stdout",
     "output_type": "stream",
     "text": [
      "<class 'pandas.core.frame.DataFrame'>\n",
      "Index: 1536 entries, 02224 to nan\n",
      "Data columns (total 16 columns):\n",
      "state                1536 non-null object\n",
      "num_businesses       1536 non-null int64\n",
      "num_open             1536 non-null int64\n",
      "%closed              1536 non-null float64\n",
      "num_reviews          1536 non-null float64\n",
      "num_checkins         1536 non-null float64\n",
      "num_tips             1536 non-null float64\n",
      "num_interactions     1536 non-null float64\n",
      "open_rating          1498 non-null float64\n",
      "closed_rating        939 non-null float64\n",
      "std.dev_rating       1198 non-null float64\n",
      "open_categories      1536 non-null object\n",
      "closed_categories    1536 non-null object\n",
      "chains               1536 non-null object\n",
      "num_chains           1536 non-null int64\n",
      "%chains              1536 non-null float64\n",
      "dtypes: float64(9), int64(3), object(4)\n",
      "memory usage: 204.0+ KB\n"
     ]
    }
   ],
   "source": [
    "zipProfileDf.info()"
   ]
  },
  {
   "cell_type": "markdown",
   "metadata": {},
   "source": [
    "It appears that we have some business where the postal-code was 'nan', let's remove the ZIP profile corresponding to this."
   ]
  },
  {
   "cell_type": "code",
   "execution_count": 21,
   "metadata": {
    "collapsed": false
   },
   "outputs": [],
   "source": [
    "zipProfileDf = zipProfileDf.drop('nan')"
   ]
  },
  {
   "cell_type": "markdown",
   "metadata": {},
   "source": [
    "Now we'll review the info again, we no longer have any 'nan' entries."
   ]
  },
  {
   "cell_type": "code",
   "execution_count": 22,
   "metadata": {
    "collapsed": false
   },
   "outputs": [
    {
     "name": "stdout",
     "output_type": "stream",
     "text": [
      "<class 'pandas.core.frame.DataFrame'>\n",
      "Index: 1514 entries, 02224 to YO22\n",
      "Data columns (total 16 columns):\n",
      "state                1514 non-null object\n",
      "num_businesses       1514 non-null int64\n",
      "num_open             1514 non-null int64\n",
      "%closed              1514 non-null float64\n",
      "num_reviews          1514 non-null float64\n",
      "num_checkins         1514 non-null float64\n",
      "num_tips             1514 non-null float64\n",
      "num_interactions     1514 non-null float64\n",
      "open_rating          1476 non-null float64\n",
      "closed_rating        931 non-null float64\n",
      "std.dev_rating       1182 non-null float64\n",
      "open_categories      1514 non-null object\n",
      "closed_categories    1514 non-null object\n",
      "chains               1514 non-null object\n",
      "num_chains           1514 non-null int64\n",
      "%chains              1514 non-null float64\n",
      "dtypes: float64(9), int64(3), object(4)\n",
      "memory usage: 201.1+ KB\n"
     ]
    }
   ],
   "source": [
    "zipProfileDf.info()"
   ]
  },
  {
   "cell_type": "markdown",
   "metadata": {},
   "source": [
    "Now we save the dataframes to a .pkl and .csv (for Python 2)"
   ]
  },
  {
   "cell_type": "code",
   "execution_count": 23,
   "metadata": {
    "collapsed": false
   },
   "outputs": [],
   "source": [
    "zipProfileDf.to_pickle('../../data/analysis/ZIPprofiles.pkl')\n",
    "zipProfileDf.to_csv('../../data/analysis/ZIPprofiles.csv')"
   ]
  },
  {
   "cell_type": "code",
   "execution_count": null,
   "metadata": {
    "collapsed": true
   },
   "outputs": [],
   "source": []
  }
 ],
 "metadata": {
  "kernelspec": {
   "display_name": "Python 3",
   "language": "python",
   "name": "python3"
  },
  "language_info": {
   "codemirror_mode": {
    "name": "ipython",
    "version": 3
   },
   "file_extension": ".py",
   "mimetype": "text/x-python",
   "name": "python",
   "nbconvert_exporter": "python",
   "pygments_lexer": "ipython3",
   "version": "3.6.0"
  }
 },
 "nbformat": 4,
 "nbformat_minor": 2
}
